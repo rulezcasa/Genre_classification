{
 "cells": [
  {
   "cell_type": "markdown",
   "id": "3d1bf38f",
   "metadata": {},
   "source": [
    "# Workflow:\n",
    "\n",
    "1. Importing necessary packages\n",
    "2. Feature exraction and creation of dataset\n",
    "3. Data preprocessing\n",
    "4. Train - test split\n",
    "5. Model building\n",
    "6. Prediction\n",
    "7. Evaluation metrics"
   ]
  },
  {
   "cell_type": "markdown",
   "id": "5e2a2646",
   "metadata": {},
   "source": [
    "## Importing necessary packages"
   ]
  },
  {
   "cell_type": "code",
   "execution_count": 42,
   "id": "7dbe6bfa",
   "metadata": {},
   "outputs": [],
   "source": [
    "import os\n",
    "import numpy as np\n",
    "from tensorflow import keras\n",
    "import librosa\n",
    "from matplotlib import pyplot\n",
    "import flask\n",
    "import pandas as pd\n",
    "import soundfile as sf\n",
    "from keras.models import Sequential\n",
    "from keras.layers import Dense"
   ]
  },
  {
   "cell_type": "markdown",
   "id": "f37f88a2",
   "metadata": {},
   "source": [
    "## Feature extraction using librosa"
   ]
  },
  {
   "cell_type": "markdown",
   "id": "76a66696",
   "metadata": {},
   "source": [
    "1. Mel frequency Cepstral coefficients\n",
    "2. Mel spectrogram\n",
    "3. Chroma vector\n",
    "4. Tonal Centroid Features"
   ]
  },
  {
   "cell_type": "markdown",
   "id": "5c56764c",
   "metadata": {},
   "source": [
    "### Mel frequency cepstral coefficients  "
   ]
  },
  {
   "cell_type": "code",
   "execution_count": 16,
   "id": "1ce3f46d",
   "metadata": {},
   "outputs": [],
   "source": [
    "#Defining a function that passses audio file as a parameter to obtain MFCC\n",
    "def get_mfcc(file_path):\n",
    "    \n",
    "    #Converting the mp3 audio data to wav as supported by librosa\n",
    "    data, samplerate = sf.read(file_path)\n",
    "    sf.write(\"temp.wav\", data, samplerate)\n",
    "    \n",
    "    #Passing the audio file to return MFCC\n",
    "    y,sr=librosa.load(\"temp.wav\",offset=0,duration=30)\n",
    "    mfcc=numpy.array(librosa.feature.mfcc(y=y,sr=sr))\n",
    "    return mfcc"
   ]
  },
  {
   "cell_type": "markdown",
   "id": "c937d824",
   "metadata": {},
   "source": [
    "### Mel Spectrogram "
   ]
  },
  {
   "cell_type": "code",
   "execution_count": 15,
   "id": "e807af82",
   "metadata": {},
   "outputs": [],
   "source": [
    "def get_melspectrogram(file_path):\n",
    "    \n",
    "    #Converting the mp3 audio data to wav as supported by librosa\n",
    "    data, samplerate = sf.read(file_path)\n",
    "    sf.write(\"temp.wav\", data, samplerate)\n",
    "    \n",
    "    #Passing the audio file to return melspectrogram\n",
    "    y,sr=librosa.load(\"temp.wav\",offset=0,duration=30)\n",
    "    melspectrogram=numpy.array(librosa.feature.melspectrogram(y=y,sr=sr))\n",
    "    return melspectrogram"
   ]
  },
  {
   "cell_type": "markdown",
   "id": "3d8ef0bb",
   "metadata": {},
   "source": [
    "### Chroma vector "
   ]
  },
  {
   "cell_type": "code",
   "execution_count": 32,
   "id": "3f18a992",
   "metadata": {},
   "outputs": [],
   "source": [
    "def get_chroma_vector(file_path):\n",
    "    #Converting the audio data to wav as supported by librosa\n",
    "    data, samplerate = sf.read(file_path)\n",
    "    sf.write(\"temp.wav\", data, samplerate)\n",
    "    \n",
    "    #Passing the audio file to return chroma\n",
    "    y,sr=librosa.load(\"temp.wav\",offset=0,duration=30)\n",
    "    chroma=numpy.array(librosa.feature.chroma_stft(y=y,sr=sr))\n",
    "    return chroma"
   ]
  },
  {
   "cell_type": "markdown",
   "id": "e56ca91b",
   "metadata": {},
   "source": [
    "### Tonal centroid features "
   ]
  },
  {
   "cell_type": "code",
   "execution_count": 14,
   "id": "2083c7bc",
   "metadata": {},
   "outputs": [],
   "source": [
    "def get_tonnetz(file_path):\n",
    "    #Converting the audio data to wav as supported by librosa\n",
    "    data, samplerate = sf.read(file_path)\n",
    "    sf.write(\"temp.wav\", data, samplerate)\n",
    "    \n",
    "    #Passing the audio file to return tonnetz\n",
    "    y,sr=librosa.load(\"temp.wav\",offset=0,duration=30)\n",
    "    tonnetz=numpy.array(librosa.feature.tonnetz(y=y,sr=sr))\n",
    "    return tonnetz"
   ]
  },
  {
   "cell_type": "code",
   "execution_count": 30,
   "id": "4b276681",
   "metadata": {},
   "outputs": [],
   "source": [
    "#Defining a function to extract all features\n",
    "def get_features(file_path):\n",
    "    \n",
    "    #Converting the audio data to wav as supported by librosa\n",
    "    data, samplerate = sf.read(file_path)\n",
    "    sf.write(\"temp.wav\", data, samplerate)\n",
    "    \n",
    "    #MFCC\n",
    "    mfcc=get_mfcc(\"temp.wav\")\n",
    "    mfcc_feature=numpy.concatenate((mfcc.mean(axis=1),mfcc.min(axis=1),mfcc.max(axis=1)))\n",
    "    \n",
    "    #Melspectrogram\n",
    "    melspectrogram=get_melspectrogram(\"temp.wav\")\n",
    "    melspectrogram_feature=numpy.concatenate((melspectrogram.mean(axis=1),melspectrogram.min(axis=1),melspectrogram.max(axis=1)))\n",
    "    \n",
    "    #Chroma\n",
    "    chroma=get_chroma_vector(\"temp.wav\")\n",
    "    chroma_feature=numpy.concatenate((chroma.mean(axis=1),chroma.min(axis=1),chroma.max(axis=1)))\n",
    "    \n",
    "    #Tonnetz\n",
    "    tntz=get_tonnetz(\"temp.wav\")\n",
    "    tntz_feature=numpy.concatenate((tntz.mean(axis=1),tntz.min(axis=1),tntz.max(axis=1)))\n",
    "    \n",
    "    #All features\n",
    "    feature=numpy.concatenate((chroma_feature,melspectrogram_feature,mfcc_feature,tntz_feature))\n",
    "    return feature"
   ]
  },
  {
   "cell_type": "markdown",
   "id": "c89a3975",
   "metadata": {},
   "source": [
    "## Calculating features for the full dataset "
   ]
  },
  {
   "cell_type": "code",
   "execution_count": 34,
   "id": "1aa15476",
   "metadata": {},
   "outputs": [
    {
     "name": "stdout",
     "output_type": "stream",
     "text": [
      "Calculating features for genre: blues\n",
      "Calculating features for genre: classical\n",
      "Calculating features for genre: country\n",
      "Calculating features for genre: disco\n",
      "Calculating features for genre: hiphop\n",
      "Calculating features for genre: jazz\n",
      "Calculating features for genre: metal\n",
      "Calculating features for genre: pop\n",
      "Calculating features for genre: reggae\n",
      "Calculating features for genre: rock\n"
     ]
    }
   ],
   "source": [
    "#Defining directory, genres, feature and labels\n",
    "directory=\"/Users/casarulez/Projects/Genre_classification/genres\"\n",
    "genres=[\"blues\",\"classical\",\"country\",\"disco\",\"hiphop\",\"jazz\",\"metal\",\"pop\",\"reggae\",\"rock\"]\n",
    "features=[]\n",
    "labels=[]\n",
    "\n",
    "#Iterating over data directory to calculate features\n",
    "for genre in genres:\n",
    "    print(\"Calculating features for genre:\",genre)\n",
    "    for file in os.listdir(directory+\"/\"+genre):\n",
    "            file_path=directory+\"/\"+genre+\"/\"+file\n",
    "            \n",
    "            features.append(get_features(file_path))\n",
    "            label=genres.index(genre)\n",
    "            labels.append(label)\n",
    "print(\"Feature calculation complete\")"
   ]
  },
  {
   "cell_type": "markdown",
   "id": "63a6b74f",
   "metadata": {},
   "source": [
    "## Splitting the dataset into training, validation and testing "
   ]
  },
  {
   "cell_type": "code",
   "execution_count": 85,
   "id": "6baeb7f4",
   "metadata": {},
   "outputs": [
    {
     "data": {
      "text/plain": [
       "((600, 498), (200, 498), (600,), (200,))"
      ]
     },
     "execution_count": 85,
     "metadata": {},
     "output_type": "execute_result"
    }
   ],
   "source": [
    "#Shufling features and labels\n",
    "permutations=np.random.permutation(1000)\n",
    "features=np.array(features)[permutations]\n",
    "labels=np.array(labels)[permutations]\n",
    "\n",
    "#Training data\n",
    "features_train=features[0:600]\n",
    "labels_train=labels[0:600]\n",
    "\n",
    "#Valutation data\n",
    "features_val=features[600:800]\n",
    "labels_val=labels[600:800]\n",
    "\n",
    "#Testing data\n",
    "features_test=features[800:1000]\n",
    "labels_test=labels[800:1000]\n",
    "\n",
    "#Checking shape of training and testing variables\n",
    "features_train.shape,features_test.shape,labels_train.shape,labels_test.shape"
   ]
  },
  {
   "cell_type": "markdown",
   "id": "66968809",
   "metadata": {},
   "source": [
    "## Feature scaling "
   ]
  },
  {
   "cell_type": "code",
   "execution_count": 75,
   "id": "d448140c",
   "metadata": {},
   "outputs": [],
   "source": [
    "from sklearn.preprocessing import StandardScaler\n",
    "sc=StandardScaler()"
   ]
  },
  {
   "cell_type": "code",
   "execution_count": 76,
   "id": "ce199c0e",
   "metadata": {},
   "outputs": [
    {
     "data": {
      "text/plain": [
       "array([[ 1.57866354, -0.21052578, -0.79891291, ..., -0.77324149,\n",
       "        -0.87148029, -0.72188555],\n",
       "       [-0.69784769, -1.66339875, -1.41634884, ..., -0.38088994,\n",
       "        -0.59674805, -0.02711019],\n",
       "       [ 0.27546489,  1.31800323, -0.23541335, ..., -2.16504066,\n",
       "        -1.87643944, -0.51258201],\n",
       "       ...,\n",
       "       [ 0.67824106,  1.30833333,  0.29446596, ..., -0.09257132,\n",
       "         0.13804559,  0.48544377],\n",
       "       [ 0.55615594,  0.25603324,  0.16055201, ..., -0.54299502,\n",
       "        -0.88611503, -0.63827269],\n",
       "       [ 0.24761179,  1.02321184,  0.39232889, ..., -0.64289897,\n",
       "        -0.27892158, -1.017592  ]])"
      ]
     },
     "execution_count": 76,
     "metadata": {},
     "output_type": "execute_result"
    }
   ],
   "source": [
    "#Transforming features_train to a standard scale\n",
    "features_train=sc.fit_transform(features_train)\n",
    "features_train"
   ]
  },
  {
   "cell_type": "code",
   "execution_count": 77,
   "id": "c7c5ae1e",
   "metadata": {},
   "outputs": [
    {
     "data": {
      "text/plain": [
       "array([[-0.41309118, -0.31481718,  0.3225698 , ..., -1.29443815,\n",
       "        -0.9101767 , -0.47632825],\n",
       "       [ 0.47787593,  0.70022955,  2.01496323, ..., -0.73670568,\n",
       "        -0.53907643, -1.06168678],\n",
       "       [ 0.0039381 ,  0.55472947,  1.05637374, ...,  0.83901726,\n",
       "         0.34828482, -0.01211979],\n",
       "       ...,\n",
       "       [-0.84707168,  0.47509896,  0.22228117, ...,  0.38840676,\n",
       "         0.89837268,  1.39818729],\n",
       "       [ 0.69033068, -0.09902646, -0.83299252, ...,  0.59133707,\n",
       "         1.32687751,  0.81222933],\n",
       "       [-0.38647108, -0.82069842, -2.02636434, ...,  0.78335887,\n",
       "         1.01295673,  1.2123022 ]])"
      ]
     },
     "execution_count": 77,
     "metadata": {},
     "output_type": "execute_result"
    }
   ],
   "source": [
    "#Transforming features_test to a standard scale\n",
    "features_test=sc.fit_transform(features_test)\n",
    "features_test"
   ]
  },
  {
   "cell_type": "markdown",
   "id": "2b4ca5a3",
   "metadata": {},
   "source": [
    "## Model building "
   ]
  },
  {
   "cell_type": "code",
   "execution_count": 82,
   "id": "a02889a4",
   "metadata": {},
   "outputs": [
    {
     "name": "stdout",
     "output_type": "stream",
     "text": [
      "Epoch 1/150\n",
      "19/19 [==============================] - 0s 2ms/step - loss: 1.5333 - sparse_categorical_accuracy: 0.4383\n",
      "Epoch 2/150\n",
      "19/19 [==============================] - 0s 2ms/step - loss: 0.7254 - sparse_categorical_accuracy: 0.7833\n",
      "Epoch 3/150\n",
      "19/19 [==============================] - 0s 2ms/step - loss: 0.4213 - sparse_categorical_accuracy: 0.9033\n",
      "Epoch 4/150\n",
      "19/19 [==============================] - 0s 2ms/step - loss: 0.2880 - sparse_categorical_accuracy: 0.9333\n",
      "Epoch 5/150\n",
      "19/19 [==============================] - 0s 2ms/step - loss: 0.1745 - sparse_categorical_accuracy: 0.9650\n",
      "Epoch 6/150\n",
      "19/19 [==============================] - 0s 2ms/step - loss: 0.1287 - sparse_categorical_accuracy: 0.9767\n",
      "Epoch 7/150\n",
      "19/19 [==============================] - 0s 2ms/step - loss: 0.0985 - sparse_categorical_accuracy: 0.9683\n",
      "Epoch 8/150\n",
      "19/19 [==============================] - 0s 2ms/step - loss: 0.0623 - sparse_categorical_accuracy: 0.9900\n",
      "Epoch 9/150\n",
      "19/19 [==============================] - 0s 2ms/step - loss: 0.0601 - sparse_categorical_accuracy: 0.9850\n",
      "Epoch 10/150\n",
      "19/19 [==============================] - 0s 2ms/step - loss: 0.0199 - sparse_categorical_accuracy: 1.0000\n",
      "Epoch 11/150\n",
      "19/19 [==============================] - 0s 2ms/step - loss: 0.0449 - sparse_categorical_accuracy: 0.9917\n",
      "Epoch 12/150\n",
      "19/19 [==============================] - 0s 2ms/step - loss: 0.0260 - sparse_categorical_accuracy: 0.9933\n",
      "Epoch 13/150\n",
      "19/19 [==============================] - 0s 2ms/step - loss: 0.0235 - sparse_categorical_accuracy: 0.9933\n",
      "Epoch 14/150\n",
      "19/19 [==============================] - 0s 2ms/step - loss: 0.0041 - sparse_categorical_accuracy: 1.0000\n",
      "Epoch 15/150\n",
      "19/19 [==============================] - 0s 2ms/step - loss: 0.0024 - sparse_categorical_accuracy: 1.0000\n",
      "Epoch 16/150\n",
      "19/19 [==============================] - 0s 2ms/step - loss: 0.0015 - sparse_categorical_accuracy: 1.0000\n",
      "Epoch 17/150\n",
      "19/19 [==============================] - 0s 3ms/step - loss: 8.3539e-04 - sparse_categorical_accuracy: 1.0000\n",
      "Epoch 18/150\n",
      "19/19 [==============================] - 0s 2ms/step - loss: 6.4585e-04 - sparse_categorical_accuracy: 1.0000\n",
      "Epoch 19/150\n",
      "19/19 [==============================] - 0s 2ms/step - loss: 4.8410e-04 - sparse_categorical_accuracy: 1.0000\n",
      "Epoch 20/150\n",
      "19/19 [==============================] - 0s 2ms/step - loss: 3.7438e-04 - sparse_categorical_accuracy: 1.0000\n",
      "Epoch 21/150\n",
      "19/19 [==============================] - 0s 2ms/step - loss: 3.1646e-04 - sparse_categorical_accuracy: 1.0000\n",
      "Epoch 22/150\n",
      "19/19 [==============================] - 0s 2ms/step - loss: 2.7057e-04 - sparse_categorical_accuracy: 1.0000\n",
      "Epoch 23/150\n",
      "19/19 [==============================] - 0s 2ms/step - loss: 2.3796e-04 - sparse_categorical_accuracy: 1.0000\n",
      "Epoch 24/150\n",
      "19/19 [==============================] - 0s 2ms/step - loss: 2.1353e-04 - sparse_categorical_accuracy: 1.0000\n",
      "Epoch 25/150\n",
      "19/19 [==============================] - 0s 2ms/step - loss: 1.9155e-04 - sparse_categorical_accuracy: 1.0000\n",
      "Epoch 26/150\n",
      "19/19 [==============================] - 0s 2ms/step - loss: 1.7495e-04 - sparse_categorical_accuracy: 1.0000\n",
      "Epoch 27/150\n",
      "19/19 [==============================] - 0s 2ms/step - loss: 1.6098e-04 - sparse_categorical_accuracy: 1.0000\n",
      "Epoch 28/150\n",
      "19/19 [==============================] - 0s 2ms/step - loss: 1.4804e-04 - sparse_categorical_accuracy: 1.0000\n",
      "Epoch 29/150\n",
      "19/19 [==============================] - 0s 2ms/step - loss: 1.3763e-04 - sparse_categorical_accuracy: 1.0000\n",
      "Epoch 30/150\n",
      "19/19 [==============================] - 0s 2ms/step - loss: 1.2860e-04 - sparse_categorical_accuracy: 1.0000\n",
      "Epoch 31/150\n",
      "19/19 [==============================] - 0s 2ms/step - loss: 1.2095e-04 - sparse_categorical_accuracy: 1.0000\n",
      "Epoch 32/150\n",
      "19/19 [==============================] - 0s 2ms/step - loss: 1.1362e-04 - sparse_categorical_accuracy: 1.0000\n",
      "Epoch 33/150\n",
      "19/19 [==============================] - 0s 2ms/step - loss: 1.0750e-04 - sparse_categorical_accuracy: 1.0000\n",
      "Epoch 34/150\n",
      "19/19 [==============================] - 0s 2ms/step - loss: 1.0133e-04 - sparse_categorical_accuracy: 1.0000\n",
      "Epoch 35/150\n",
      "19/19 [==============================] - 0s 2ms/step - loss: 9.5965e-05 - sparse_categorical_accuracy: 1.0000\n",
      "Epoch 36/150\n",
      "19/19 [==============================] - 0s 2ms/step - loss: 9.1224e-05 - sparse_categorical_accuracy: 1.0000\n",
      "Epoch 37/150\n",
      "19/19 [==============================] - 0s 2ms/step - loss: 8.7057e-05 - sparse_categorical_accuracy: 1.0000\n",
      "Epoch 38/150\n",
      "19/19 [==============================] - 0s 2ms/step - loss: 8.3344e-05 - sparse_categorical_accuracy: 1.0000\n",
      "Epoch 39/150\n",
      "19/19 [==============================] - 0s 2ms/step - loss: 7.9569e-05 - sparse_categorical_accuracy: 1.0000\n",
      "Epoch 40/150\n",
      "19/19 [==============================] - 0s 2ms/step - loss: 7.6378e-05 - sparse_categorical_accuracy: 1.0000\n",
      "Epoch 41/150\n",
      "19/19 [==============================] - 0s 2ms/step - loss: 7.3453e-05 - sparse_categorical_accuracy: 1.0000\n",
      "Epoch 42/150\n",
      "19/19 [==============================] - 0s 2ms/step - loss: 7.0399e-05 - sparse_categorical_accuracy: 1.0000\n",
      "Epoch 43/150\n",
      "19/19 [==============================] - 0s 2ms/step - loss: 6.7843e-05 - sparse_categorical_accuracy: 1.0000\n",
      "Epoch 44/150\n",
      "19/19 [==============================] - 0s 2ms/step - loss: 6.5741e-05 - sparse_categorical_accuracy: 1.0000\n",
      "Epoch 45/150\n",
      "19/19 [==============================] - 0s 3ms/step - loss: 6.3329e-05 - sparse_categorical_accuracy: 1.0000\n",
      "Epoch 46/150\n",
      "19/19 [==============================] - 0s 2ms/step - loss: 6.1309e-05 - sparse_categorical_accuracy: 1.0000\n",
      "Epoch 47/150\n",
      "19/19 [==============================] - 0s 2ms/step - loss: 5.9335e-05 - sparse_categorical_accuracy: 1.0000\n",
      "Epoch 48/150\n",
      "19/19 [==============================] - 0s 2ms/step - loss: 5.7340e-05 - sparse_categorical_accuracy: 1.0000\n",
      "Epoch 49/150\n",
      "19/19 [==============================] - 0s 2ms/step - loss: 5.5615e-05 - sparse_categorical_accuracy: 1.0000\n",
      "Epoch 50/150\n",
      "19/19 [==============================] - 0s 2ms/step - loss: 5.3894e-05 - sparse_categorical_accuracy: 1.0000\n",
      "Epoch 51/150\n",
      "19/19 [==============================] - 0s 2ms/step - loss: 5.2459e-05 - sparse_categorical_accuracy: 1.0000\n",
      "Epoch 52/150\n",
      "19/19 [==============================] - 0s 2ms/step - loss: 5.0910e-05 - sparse_categorical_accuracy: 1.0000\n",
      "Epoch 53/150\n",
      "19/19 [==============================] - 0s 2ms/step - loss: 4.9614e-05 - sparse_categorical_accuracy: 1.0000\n",
      "Epoch 54/150\n",
      "19/19 [==============================] - 0s 2ms/step - loss: 4.8187e-05 - sparse_categorical_accuracy: 1.0000\n",
      "Epoch 55/150\n",
      "19/19 [==============================] - 0s 2ms/step - loss: 4.6976e-05 - sparse_categorical_accuracy: 1.0000\n",
      "Epoch 56/150\n",
      "19/19 [==============================] - 0s 2ms/step - loss: 4.5752e-05 - sparse_categorical_accuracy: 1.0000\n",
      "Epoch 57/150\n",
      "19/19 [==============================] - 0s 2ms/step - loss: 4.4536e-05 - sparse_categorical_accuracy: 1.0000\n",
      "Epoch 58/150\n",
      "19/19 [==============================] - 0s 2ms/step - loss: 4.3520e-05 - sparse_categorical_accuracy: 1.0000\n",
      "Epoch 59/150\n",
      "19/19 [==============================] - 0s 2ms/step - loss: 4.2491e-05 - sparse_categorical_accuracy: 1.0000\n",
      "Epoch 60/150\n",
      "19/19 [==============================] - 0s 2ms/step - loss: 4.1410e-05 - sparse_categorical_accuracy: 1.0000\n",
      "Epoch 61/150\n",
      "19/19 [==============================] - 0s 2ms/step - loss: 4.0552e-05 - sparse_categorical_accuracy: 1.0000\n",
      "Epoch 62/150\n",
      "19/19 [==============================] - 0s 2ms/step - loss: 3.9671e-05 - sparse_categorical_accuracy: 1.0000\n",
      "Epoch 63/150\n",
      "19/19 [==============================] - 0s 2ms/step - loss: 3.8721e-05 - sparse_categorical_accuracy: 1.0000\n",
      "Epoch 64/150\n",
      "19/19 [==============================] - 0s 2ms/step - loss: 3.7982e-05 - sparse_categorical_accuracy: 1.0000\n",
      "Epoch 65/150\n",
      "19/19 [==============================] - 0s 2ms/step - loss: 3.7128e-05 - sparse_categorical_accuracy: 1.0000\n",
      "Epoch 66/150\n",
      "19/19 [==============================] - 0s 2ms/step - loss: 3.6363e-05 - sparse_categorical_accuracy: 1.0000\n",
      "Epoch 67/150\n",
      "19/19 [==============================] - 0s 2ms/step - loss: 3.5619e-05 - sparse_categorical_accuracy: 1.0000\n",
      "Epoch 68/150\n"
     ]
    },
    {
     "name": "stdout",
     "output_type": "stream",
     "text": [
      "19/19 [==============================] - 0s 2ms/step - loss: 3.4909e-05 - sparse_categorical_accuracy: 1.0000\n",
      "Epoch 69/150\n",
      "19/19 [==============================] - 0s 2ms/step - loss: 3.4222e-05 - sparse_categorical_accuracy: 1.0000\n",
      "Epoch 70/150\n",
      "19/19 [==============================] - 0s 2ms/step - loss: 3.3602e-05 - sparse_categorical_accuracy: 1.0000\n",
      "Epoch 71/150\n",
      "19/19 [==============================] - 0s 2ms/step - loss: 3.2917e-05 - sparse_categorical_accuracy: 1.0000\n",
      "Epoch 72/150\n",
      "19/19 [==============================] - 0s 2ms/step - loss: 3.2325e-05 - sparse_categorical_accuracy: 1.0000\n",
      "Epoch 73/150\n",
      "19/19 [==============================] - 0s 2ms/step - loss: 3.1697e-05 - sparse_categorical_accuracy: 1.0000\n",
      "Epoch 74/150\n",
      "19/19 [==============================] - 0s 2ms/step - loss: 3.1161e-05 - sparse_categorical_accuracy: 1.0000\n",
      "Epoch 75/150\n",
      "19/19 [==============================] - 0s 2ms/step - loss: 3.0583e-05 - sparse_categorical_accuracy: 1.0000\n",
      "Epoch 76/150\n",
      "19/19 [==============================] - 0s 2ms/step - loss: 3.0107e-05 - sparse_categorical_accuracy: 1.0000\n",
      "Epoch 77/150\n",
      "19/19 [==============================] - 0s 2ms/step - loss: 2.9562e-05 - sparse_categorical_accuracy: 1.0000\n",
      "Epoch 78/150\n",
      "19/19 [==============================] - 0s 2ms/step - loss: 2.9064e-05 - sparse_categorical_accuracy: 1.0000\n",
      "Epoch 79/150\n",
      "19/19 [==============================] - 0s 2ms/step - loss: 2.8624e-05 - sparse_categorical_accuracy: 1.0000\n",
      "Epoch 80/150\n",
      "19/19 [==============================] - 0s 2ms/step - loss: 2.8088e-05 - sparse_categorical_accuracy: 1.0000\n",
      "Epoch 81/150\n",
      "19/19 [==============================] - 0s 2ms/step - loss: 2.7653e-05 - sparse_categorical_accuracy: 1.0000\n",
      "Epoch 82/150\n",
      "19/19 [==============================] - 0s 2ms/step - loss: 2.7220e-05 - sparse_categorical_accuracy: 1.0000\n",
      "Epoch 83/150\n",
      "19/19 [==============================] - 0s 2ms/step - loss: 2.6834e-05 - sparse_categorical_accuracy: 1.0000\n",
      "Epoch 84/150\n",
      "19/19 [==============================] - 0s 2ms/step - loss: 2.6384e-05 - sparse_categorical_accuracy: 1.0000\n",
      "Epoch 85/150\n",
      "19/19 [==============================] - 0s 2ms/step - loss: 2.5961e-05 - sparse_categorical_accuracy: 1.0000\n",
      "Epoch 86/150\n",
      "19/19 [==============================] - 0s 2ms/step - loss: 2.5595e-05 - sparse_categorical_accuracy: 1.0000\n",
      "Epoch 87/150\n",
      "19/19 [==============================] - 0s 2ms/step - loss: 2.5225e-05 - sparse_categorical_accuracy: 1.0000\n",
      "Epoch 88/150\n",
      "19/19 [==============================] - 0s 2ms/step - loss: 2.4873e-05 - sparse_categorical_accuracy: 1.0000\n",
      "Epoch 89/150\n",
      "19/19 [==============================] - 0s 2ms/step - loss: 2.4497e-05 - sparse_categorical_accuracy: 1.0000\n",
      "Epoch 90/150\n",
      "19/19 [==============================] - 0s 2ms/step - loss: 2.4134e-05 - sparse_categorical_accuracy: 1.0000\n",
      "Epoch 91/150\n",
      "19/19 [==============================] - 0s 2ms/step - loss: 2.3797e-05 - sparse_categorical_accuracy: 1.0000\n",
      "Epoch 92/150\n",
      "19/19 [==============================] - 0s 2ms/step - loss: 2.3441e-05 - sparse_categorical_accuracy: 1.0000\n",
      "Epoch 93/150\n",
      "19/19 [==============================] - 0s 2ms/step - loss: 2.3187e-05 - sparse_categorical_accuracy: 1.0000\n",
      "Epoch 94/150\n",
      "19/19 [==============================] - 0s 2ms/step - loss: 2.2836e-05 - sparse_categorical_accuracy: 1.0000\n",
      "Epoch 95/150\n",
      "19/19 [==============================] - 0s 2ms/step - loss: 2.2495e-05 - sparse_categorical_accuracy: 1.0000\n",
      "Epoch 96/150\n",
      "19/19 [==============================] - 0s 2ms/step - loss: 2.2220e-05 - sparse_categorical_accuracy: 1.0000\n",
      "Epoch 97/150\n",
      "19/19 [==============================] - 0s 2ms/step - loss: 2.1926e-05 - sparse_categorical_accuracy: 1.0000\n",
      "Epoch 98/150\n",
      "19/19 [==============================] - 0s 2ms/step - loss: 2.1663e-05 - sparse_categorical_accuracy: 1.0000\n",
      "Epoch 99/150\n",
      "19/19 [==============================] - 0s 2ms/step - loss: 2.1385e-05 - sparse_categorical_accuracy: 1.0000\n",
      "Epoch 100/150\n",
      "19/19 [==============================] - 0s 2ms/step - loss: 2.1105e-05 - sparse_categorical_accuracy: 1.0000\n",
      "Epoch 101/150\n",
      "19/19 [==============================] - 0s 2ms/step - loss: 2.0849e-05 - sparse_categorical_accuracy: 1.0000\n",
      "Epoch 102/150\n",
      "19/19 [==============================] - 0s 2ms/step - loss: 2.0568e-05 - sparse_categorical_accuracy: 1.0000\n",
      "Epoch 103/150\n",
      "19/19 [==============================] - 0s 2ms/step - loss: 2.0333e-05 - sparse_categorical_accuracy: 1.0000\n",
      "Epoch 104/150\n",
      "19/19 [==============================] - 0s 2ms/step - loss: 2.0080e-05 - sparse_categorical_accuracy: 1.0000\n",
      "Epoch 105/150\n",
      "19/19 [==============================] - 0s 2ms/step - loss: 1.9838e-05 - sparse_categorical_accuracy: 1.0000\n",
      "Epoch 106/150\n",
      "19/19 [==============================] - 0s 2ms/step - loss: 1.9612e-05 - sparse_categorical_accuracy: 1.0000\n",
      "Epoch 107/150\n",
      "19/19 [==============================] - 0s 2ms/step - loss: 1.9370e-05 - sparse_categorical_accuracy: 1.0000\n",
      "Epoch 108/150\n",
      "19/19 [==============================] - 0s 2ms/step - loss: 1.9154e-05 - sparse_categorical_accuracy: 1.0000\n",
      "Epoch 109/150\n",
      "19/19 [==============================] - 0s 2ms/step - loss: 1.8927e-05 - sparse_categorical_accuracy: 1.0000\n",
      "Epoch 110/150\n",
      "19/19 [==============================] - 0s 2ms/step - loss: 1.8711e-05 - sparse_categorical_accuracy: 1.0000\n",
      "Epoch 111/150\n",
      "19/19 [==============================] - 0s 2ms/step - loss: 1.8517e-05 - sparse_categorical_accuracy: 1.0000\n",
      "Epoch 112/150\n",
      "19/19 [==============================] - 0s 2ms/step - loss: 1.8309e-05 - sparse_categorical_accuracy: 1.0000\n",
      "Epoch 113/150\n",
      "19/19 [==============================] - 0s 2ms/step - loss: 1.8105e-05 - sparse_categorical_accuracy: 1.0000\n",
      "Epoch 114/150\n",
      "19/19 [==============================] - 0s 2ms/step - loss: 1.7893e-05 - sparse_categorical_accuracy: 1.0000\n",
      "Epoch 115/150\n",
      "19/19 [==============================] - 0s 2ms/step - loss: 1.7719e-05 - sparse_categorical_accuracy: 1.0000\n",
      "Epoch 116/150\n",
      "19/19 [==============================] - 0s 2ms/step - loss: 1.7508e-05 - sparse_categorical_accuracy: 1.0000\n",
      "Epoch 117/150\n",
      "19/19 [==============================] - 0s 2ms/step - loss: 1.7345e-05 - sparse_categorical_accuracy: 1.0000\n",
      "Epoch 118/150\n",
      "19/19 [==============================] - 0s 2ms/step - loss: 1.7156e-05 - sparse_categorical_accuracy: 1.0000\n",
      "Epoch 119/150\n",
      "19/19 [==============================] - 0s 2ms/step - loss: 1.6977e-05 - sparse_categorical_accuracy: 1.0000\n",
      "Epoch 120/150\n",
      "19/19 [==============================] - 0s 2ms/step - loss: 1.6805e-05 - sparse_categorical_accuracy: 1.0000\n",
      "Epoch 121/150\n",
      "19/19 [==============================] - 0s 2ms/step - loss: 1.6624e-05 - sparse_categorical_accuracy: 1.0000\n",
      "Epoch 122/150\n",
      "19/19 [==============================] - 0s 2ms/step - loss: 1.6465e-05 - sparse_categorical_accuracy: 1.0000\n",
      "Epoch 123/150\n",
      "19/19 [==============================] - 0s 2ms/step - loss: 1.6301e-05 - sparse_categorical_accuracy: 1.0000\n",
      "Epoch 124/150\n",
      "19/19 [==============================] - 0s 2ms/step - loss: 1.6165e-05 - sparse_categorical_accuracy: 1.0000\n",
      "Epoch 125/150\n",
      "19/19 [==============================] - 0s 2ms/step - loss: 1.5980e-05 - sparse_categorical_accuracy: 1.0000\n",
      "Epoch 126/150\n",
      "19/19 [==============================] - 0s 2ms/step - loss: 1.5825e-05 - sparse_categorical_accuracy: 1.0000\n",
      "Epoch 127/150\n",
      "19/19 [==============================] - 0s 2ms/step - loss: 1.5674e-05 - sparse_categorical_accuracy: 1.0000\n",
      "Epoch 128/150\n",
      "19/19 [==============================] - 0s 2ms/step - loss: 1.5540e-05 - sparse_categorical_accuracy: 1.0000\n",
      "Epoch 129/150\n",
      "19/19 [==============================] - 0s 2ms/step - loss: 1.5384e-05 - sparse_categorical_accuracy: 1.0000\n",
      "Epoch 130/150\n",
      "19/19 [==============================] - 0s 2ms/step - loss: 1.5231e-05 - sparse_categorical_accuracy: 1.0000\n",
      "Epoch 131/150\n",
      "19/19 [==============================] - 0s 2ms/step - loss: 1.5091e-05 - sparse_categorical_accuracy: 1.0000\n",
      "Epoch 132/150\n",
      "19/19 [==============================] - 0s 2ms/step - loss: 1.4953e-05 - sparse_categorical_accuracy: 1.0000\n",
      "Epoch 133/150\n",
      "19/19 [==============================] - 0s 2ms/step - loss: 1.4815e-05 - sparse_categorical_accuracy: 1.0000\n",
      "Epoch 134/150\n"
     ]
    },
    {
     "name": "stdout",
     "output_type": "stream",
     "text": [
      "19/19 [==============================] - 0s 2ms/step - loss: 1.4682e-05 - sparse_categorical_accuracy: 1.0000\n",
      "Epoch 135/150\n",
      "19/19 [==============================] - 0s 2ms/step - loss: 1.4560e-05 - sparse_categorical_accuracy: 1.0000\n",
      "Epoch 136/150\n",
      "19/19 [==============================] - 0s 2ms/step - loss: 1.4428e-05 - sparse_categorical_accuracy: 1.0000\n",
      "Epoch 137/150\n",
      "19/19 [==============================] - 0s 2ms/step - loss: 1.4298e-05 - sparse_categorical_accuracy: 1.0000\n",
      "Epoch 138/150\n",
      "19/19 [==============================] - 0s 2ms/step - loss: 1.4173e-05 - sparse_categorical_accuracy: 1.0000\n",
      "Epoch 139/150\n",
      "19/19 [==============================] - 0s 2ms/step - loss: 1.4047e-05 - sparse_categorical_accuracy: 1.0000\n",
      "Epoch 140/150\n",
      "19/19 [==============================] - 0s 2ms/step - loss: 1.3920e-05 - sparse_categorical_accuracy: 1.0000\n",
      "Epoch 141/150\n",
      "19/19 [==============================] - 0s 2ms/step - loss: 1.3810e-05 - sparse_categorical_accuracy: 1.0000\n",
      "Epoch 142/150\n",
      "19/19 [==============================] - 0s 2ms/step - loss: 1.3693e-05 - sparse_categorical_accuracy: 1.0000\n",
      "Epoch 143/150\n",
      "19/19 [==============================] - 0s 2ms/step - loss: 1.3568e-05 - sparse_categorical_accuracy: 1.0000\n",
      "Epoch 144/150\n",
      "19/19 [==============================] - 0s 2ms/step - loss: 1.3460e-05 - sparse_categorical_accuracy: 1.0000\n",
      "Epoch 145/150\n",
      "19/19 [==============================] - 0s 2ms/step - loss: 1.3346e-05 - sparse_categorical_accuracy: 1.0000\n",
      "Epoch 146/150\n",
      "19/19 [==============================] - 0s 2ms/step - loss: 1.3238e-05 - sparse_categorical_accuracy: 1.0000\n",
      "Epoch 147/150\n",
      "19/19 [==============================] - 0s 2ms/step - loss: 1.3142e-05 - sparse_categorical_accuracy: 1.0000\n",
      "Epoch 148/150\n",
      "19/19 [==============================] - 0s 2ms/step - loss: 1.3022e-05 - sparse_categorical_accuracy: 1.0000\n",
      "Epoch 149/150\n",
      "19/19 [==============================] - 0s 2ms/step - loss: 1.2915e-05 - sparse_categorical_accuracy: 1.0000\n",
      "Epoch 150/150\n",
      "19/19 [==============================] - 0s 2ms/step - loss: 1.2820e-05 - sparse_categorical_accuracy: 1.0000\n"
     ]
    },
    {
     "data": {
      "text/plain": [
       "<keras.callbacks.History at 0x2991f5990>"
      ]
     },
     "execution_count": 82,
     "metadata": {},
     "output_type": "execute_result"
    }
   ],
   "source": [
    "#Adding input layer, 2 dense layers and output later\n",
    "inputs=keras.Input(shape=(498), name=\"feature\")\n",
    "x=keras.layers.Dense(300,activation=\"relu\",name=\"dense_1\")(inputs)\n",
    "x=keras.layers.Dense(200,activation=\"relu\",name=\"dense_2\")(x)\n",
    "outputs=keras.layers.Dense(10,activation=\"softmax\",name=\"predictions\")(x)\n",
    "\n",
    "#Defining model\n",
    "model=keras.Model(inputs=inputs,outputs=outputs)\n",
    "\n",
    "#Compiling model\n",
    "model.compile(optimizer=keras.optimizers.RMSprop(),loss=keras.losses.SparseCategoricalCrossentropy(),metrics=[keras.metrics.SparseCategoricalAccuracy()])\n",
    "\n",
    "#Fitting the model\n",
    "model.fit(features_train.tolist(),labels_train.tolist(),verbose=1,epochs=150)"
   ]
  },
  {
   "cell_type": "markdown",
   "id": "e45f0c1d",
   "metadata": {},
   "source": [
    "## Model evaluation "
   ]
  },
  {
   "cell_type": "code",
   "execution_count": 83,
   "id": "25ae117a",
   "metadata": {},
   "outputs": [
    {
     "name": "stdout",
     "output_type": "stream",
     "text": [
      "7/7 [==============================] - 0s 833us/step - loss: 1.5025 - sparse_categorical_accuracy: 0.7600\n",
      "Accuracy:75.99999904632568%\n"
     ]
    }
   ],
   "source": [
    "score=model.evaluate(x=features_test.tolist(),y=labels_test.tolist())\n",
    "print('Accuracy:'+str(score[1]*100)+'%')"
   ]
  },
  {
   "cell_type": "markdown",
   "id": "ad4cea24",
   "metadata": {},
   "source": [
    "## Random value prediction "
   ]
  },
  {
   "cell_type": "code",
   "execution_count": 91,
   "id": "8c718e00",
   "metadata": {},
   "outputs": [],
   "source": [
    "def prediction(file_path):\n",
    "    feature=get_features(file_path)\n",
    "    feature=feature.reshape(1,498)\n",
    "    feature=sc.fit_transform(feature)\n",
    "    y=model.predict(feature)\n",
    "    ind=numpy.argmax(y)\n",
    "    print(genres[ind])"
   ]
  },
  {
   "cell_type": "code",
   "execution_count": 94,
   "id": "888b8e05",
   "metadata": {},
   "outputs": [
    {
     "name": "stdout",
     "output_type": "stream",
     "text": [
      "1/1 [==============================] - 0s 10ms/step\n",
      "rock\n"
     ]
    }
   ],
   "source": [
    "prediction(\"/Users/casarulez/Downloads/in.mp3\")"
   ]
  },
  {
   "cell_type": "code",
   "execution_count": null,
   "id": "42f9a9d8",
   "metadata": {},
   "outputs": [],
   "source": []
  }
 ],
 "metadata": {
  "kernelspec": {
   "display_name": "myenv",
   "language": "python",
   "name": "myenv"
  },
  "language_info": {
   "codemirror_mode": {
    "name": "ipython",
    "version": 3
   },
   "file_extension": ".py",
   "mimetype": "text/x-python",
   "name": "python",
   "nbconvert_exporter": "python",
   "pygments_lexer": "ipython3",
   "version": "3.10.1"
  }
 },
 "nbformat": 4,
 "nbformat_minor": 5
}
