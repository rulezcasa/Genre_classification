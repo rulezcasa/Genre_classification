{
 "cells": [
  {
   "cell_type": "markdown",
   "id": "3d1bf38f",
   "metadata": {},
   "source": [
    "# Workflow:\n",
    "\n",
    "1. Importing necessary packages\n",
    "2. Feature exraction and creation of dataset\n",
    "3. Train - test split\n",
    "4. Feature scaling\n",
    "5. Model building\n",
    "6. Evaluation metrics\n",
    "7. Random value prediction\n",
    "8. Saving the model"
   ]
  },
  {
   "cell_type": "markdown",
   "id": "5e2a2646",
   "metadata": {},
   "source": [
    "## Importing necessary packages"
   ]
  },
  {
   "cell_type": "code",
   "execution_count": 64,
   "id": "7dbe6bfa",
   "metadata": {},
   "outputs": [],
   "source": [
    "import os\n",
    "import numpy as np\n",
    "from tensorflow import keras\n",
    "import librosa\n",
    "from matplotlib import pyplot\n",
    "import flask\n",
    "import pandas as pd\n",
    "import soundfile as sf\n",
    "from keras.models import Sequential\n",
    "from keras.layers import Dense\n",
    "from sklearn.model_selection import RandomizedSearchCV\n",
    "from keras.wrappers.scikit_learn import KerasClassifier\n",
    "from scipy.stats import randint as sp_randint\n",
    "from keras.layers import LSTM"
   ]
  },
  {
   "cell_type": "markdown",
   "id": "f37f88a2",
   "metadata": {},
   "source": [
    "## Feature extraction using librosa"
   ]
  },
  {
   "cell_type": "markdown",
   "id": "76a66696",
   "metadata": {},
   "source": [
    "1. Mel frequency Cepstral coefficients\n",
    "2. Mel spectrogram\n",
    "3. Chroma vector\n",
    "4. Tonal Centroid Features"
   ]
  },
  {
   "cell_type": "markdown",
   "id": "5c56764c",
   "metadata": {},
   "source": [
    "### Mel frequency cepstral coefficients  "
   ]
  },
  {
   "cell_type": "code",
   "execution_count": 8,
   "id": "1ce3f46d",
   "metadata": {},
   "outputs": [],
   "source": [
    "#Defining a function that passses audio file as a parameter to obtain MFCC\n",
    "def get_mfcc(file_path):\n",
    "    \n",
    "    #Converting the mp3 audio data to wav as supported by librosa\n",
    "    data, samplerate = sf.read(file_path)\n",
    "    sf.write(\"temp.wav\", data, samplerate)\n",
    "    \n",
    "    #Passing the audio file to return MFCC\n",
    "    y,sr=librosa.load(\"temp.wav\",offset=0,duration=30)\n",
    "    mfcc=np.array(librosa.feature.mfcc(y=y,sr=sr))\n",
    "    return mfcc"
   ]
  },
  {
   "cell_type": "code",
   "execution_count": 27,
   "id": "3121b7be",
   "metadata": {},
   "outputs": [
    {
     "data": {
      "text/plain": [
       "(20, 1292)"
      ]
     },
     "execution_count": 27,
     "metadata": {},
     "output_type": "execute_result"
    }
   ],
   "source": [
    "#Finding shape of mfcc for one track\n",
    "mfcc_shape=get_mfcc(\"/Users/casarulez/Projects/Genre_classification/genres/blues/blues.00085.au\")\n",
    "mfcc_shape.shape"
   ]
  },
  {
   "cell_type": "markdown",
   "id": "c937d824",
   "metadata": {},
   "source": [
    "### Mel Spectrogram "
   ]
  },
  {
   "cell_type": "code",
   "execution_count": 15,
   "id": "e807af82",
   "metadata": {},
   "outputs": [],
   "source": [
    "def get_melspectrogram(file_path):\n",
    "    \n",
    "    #Converting the mp3 audio data to wav as supported by librosa\n",
    "    data, samplerate = sf.read(file_path)\n",
    "    sf.write(\"temp.wav\", data, samplerate)\n",
    "    \n",
    "    #Passing the audio file to return melspectrogram\n",
    "    y,sr=librosa.load(\"temp.wav\",offset=0,duration=30)\n",
    "    melspectrogram=np.array(librosa.feature.melspectrogram(y=y,sr=sr))\n",
    "    return melspectrogram"
   ]
  },
  {
   "cell_type": "code",
   "execution_count": 26,
   "id": "b5ab6d85",
   "metadata": {},
   "outputs": [
    {
     "data": {
      "text/plain": [
       "(128, 1292)"
      ]
     },
     "execution_count": 26,
     "metadata": {},
     "output_type": "execute_result"
    }
   ],
   "source": [
    "#Finding shape of melspectrogram for one track\n",
    "mel_shape=get_melspectrogram(\"/Users/casarulez/Projects/Genre_classification/genres/blues/blues.00085.au\")\n",
    "mel_shape.shape"
   ]
  },
  {
   "cell_type": "markdown",
   "id": "3d8ef0bb",
   "metadata": {},
   "source": [
    "### Chroma vector "
   ]
  },
  {
   "cell_type": "code",
   "execution_count": 4,
   "id": "3f18a992",
   "metadata": {},
   "outputs": [],
   "source": [
    "def get_chroma_vector(file_path):\n",
    "    #Converting the audio data to wav as supported by librosa\n",
    "    data, samplerate = sf.read(file_path)\n",
    "    sf.write(\"temp.wav\", data, samplerate)\n",
    "    \n",
    "    #Passing the audio file to return chroma\n",
    "    y,sr=librosa.load(\"temp.wav\",offset=0,duration=30)\n",
    "    chroma=np.array(librosa.feature.chroma_stft(y=y,sr=sr))\n",
    "    return chroma"
   ]
  },
  {
   "cell_type": "code",
   "execution_count": 25,
   "id": "e6ed77f4",
   "metadata": {},
   "outputs": [
    {
     "data": {
      "text/plain": [
       "(12, 1292)"
      ]
     },
     "execution_count": 25,
     "metadata": {},
     "output_type": "execute_result"
    }
   ],
   "source": [
    "#Finding shape of chroma for one track\n",
    "chroma_shape=get_chroma_vector(\"/Users/casarulez/Projects/Genre_classification/genres/blues/blues.00085.au\")\n",
    "chroma_shape.shape"
   ]
  },
  {
   "cell_type": "markdown",
   "id": "e56ca91b",
   "metadata": {},
   "source": [
    "### Tonal centroid features "
   ]
  },
  {
   "cell_type": "code",
   "execution_count": 20,
   "id": "2083c7bc",
   "metadata": {},
   "outputs": [],
   "source": [
    "def get_tonnetz(file_path):\n",
    "    #Converting the audio data to wav as supported by librosa\n",
    "    data, samplerate = sf.read(file_path)\n",
    "    sf.write(\"temp.wav\", data, samplerate)\n",
    "    \n",
    "    #Passing the audio file to return tonnetz\n",
    "    y,sr=librosa.load(\"temp.wav\",offset=0,duration=30)\n",
    "    tonnetz=np.array(librosa.feature.tonnetz(y=y,sr=sr))\n",
    "    return tonnetz"
   ]
  },
  {
   "cell_type": "code",
   "execution_count": 24,
   "id": "96958c7e",
   "metadata": {},
   "outputs": [
    {
     "data": {
      "text/plain": [
       "(6, 1292)"
      ]
     },
     "execution_count": 24,
     "metadata": {},
     "output_type": "execute_result"
    }
   ],
   "source": [
    "#Finding shape of tonnetz for one track\n",
    "tonnetz_shape=get_tonnetz(\"/Users/casarulez/Projects/Genre_classification/genres/blues/blues.00085.au\")\n",
    "tonnetz_shape.shape"
   ]
  },
  {
   "cell_type": "code",
   "execution_count": 22,
   "id": "4b276681",
   "metadata": {},
   "outputs": [],
   "source": [
    "#Defining a function to extract all features\n",
    "def get_features(file_path):\n",
    "    \n",
    "    #Converting the audio data to wav as supported by librosa\n",
    "    data, samplerate = sf.read(file_path)\n",
    "    sf.write(\"temp.wav\", data, samplerate)\n",
    "    \n",
    "    #MFCC\n",
    "    mfcc=get_mfcc(\"temp.wav\")\n",
    "    mfcc_feature=np.concatenate((mfcc.mean(axis=1),mfcc.min(axis=1),mfcc.max(axis=1)))\n",
    "    \n",
    "    #Melspectrogram\n",
    "    melspectrogram=get_melspectrogram(\"temp.wav\")\n",
    "    melspectrogram_feature=np.concatenate((melspectrogram.mean(axis=1),melspectrogram.min(axis=1),melspectrogram.max(axis=1)))\n",
    "    \n",
    "    #Chroma\n",
    "    chroma=get_chroma_vector(\"temp.wav\")\n",
    "    chroma_feature=np.concatenate((chroma.mean(axis=1),chroma.min(axis=1),chroma.max(axis=1)))\n",
    "    \n",
    "    #Tonnetz\n",
    "    tntz=get_tonnetz(\"temp.wav\")\n",
    "    tntz_feature=np.concatenate((tntz.mean(axis=1),tntz.min(axis=1),tntz.max(axis=1)))\n",
    "    \n",
    "    #All features\n",
    "    feature=np.concatenate((chroma_feature,melspectrogram_feature,mfcc_feature,tntz_feature))\n",
    "    return feature"
   ]
  },
  {
   "cell_type": "markdown",
   "id": "c89a3975",
   "metadata": {},
   "source": [
    "## Calculating features for the full dataset "
   ]
  },
  {
   "cell_type": "code",
   "execution_count": 23,
   "id": "1aa15476",
   "metadata": {},
   "outputs": [
    {
     "name": "stdout",
     "output_type": "stream",
     "text": [
      "Calculating features for genre: blues\n",
      "Calculating features for genre: classical\n",
      "Calculating features for genre: country\n",
      "Calculating features for genre: disco\n",
      "Calculating features for genre: hiphop\n",
      "Calculating features for genre: jazz\n",
      "Calculating features for genre: metal\n",
      "Calculating features for genre: pop\n",
      "Calculating features for genre: reggae\n",
      "Calculating features for genre: rock\n",
      "Feature calculation complete\n"
     ]
    }
   ],
   "source": [
    "#Defining directory, genres, feature and labels\n",
    "directory=\"/Users/casarulez/Projects/Genre_classification/genres\"\n",
    "genres=[\"blues\",\"classical\",\"country\",\"disco\",\"hiphop\",\"jazz\",\"metal\",\"pop\",\"reggae\",\"rock\"]\n",
    "features=[]\n",
    "labels=[]\n",
    "\n",
    "#Iterating over data directory to calculate features\n",
    "for genre in genres:\n",
    "    print(\"Calculating features for genre:\",genre)\n",
    "    for file in os.listdir(directory+\"/\"+genre):\n",
    "            file_path=directory+\"/\"+genre+\"/\"+file\n",
    "            \n",
    "            features.append(get_features(file_path))\n",
    "            label=genres.index(genre)\n",
    "            labels.append(label)\n",
    "print(\"Feature calculation complete\")"
   ]
  },
  {
   "cell_type": "code",
   "execution_count": 1,
   "id": "b257e1e9",
   "metadata": {},
   "outputs": [
    {
     "ename": "NameError",
     "evalue": "name 'features' is not defined",
     "output_type": "error",
     "traceback": [
      "\u001b[0;31m---------------------------------------------------------------------------\u001b[0m",
      "\u001b[0;31mNameError\u001b[0m                                 Traceback (most recent call last)",
      "Cell \u001b[0;32mIn [1], line 2\u001b[0m\n\u001b[1;32m      1\u001b[0m \u001b[38;5;66;03m#Shape of features and labels list\u001b[39;00m\n\u001b[0;32m----> 2\u001b[0m \u001b[38;5;28mprint\u001b[39m(\u001b[38;5;28mlen\u001b[39m(\u001b[43mfeatures\u001b[49m))\n\u001b[1;32m      3\u001b[0m \u001b[38;5;28mprint\u001b[39m(\u001b[38;5;28mlen\u001b[39m(labels))\n",
      "\u001b[0;31mNameError\u001b[0m: name 'features' is not defined"
     ]
    }
   ],
   "source": [
    "#Shape of features and labels list\n",
    "print(len(features))\n",
    "print(len(labels))"
   ]
  },
  {
   "cell_type": "markdown",
   "id": "63a6b74f",
   "metadata": {},
   "source": [
    "## Splitting the dataset into training, validation and testing "
   ]
  },
  {
   "cell_type": "code",
   "execution_count": 31,
   "id": "6baeb7f4",
   "metadata": {},
   "outputs": [
    {
     "data": {
      "text/plain": [
       "((600, 498), (200, 498), (600,), (200,))"
      ]
     },
     "execution_count": 31,
     "metadata": {},
     "output_type": "execute_result"
    }
   ],
   "source": [
    "#Shufling features and labels\n",
    "permutations=np.random.permutation(1000)\n",
    "features=np.array(features)[permutations]\n",
    "labels=np.array(labels)[permutations]\n",
    "\n",
    "#Training data\n",
    "features_train=features[0:600]\n",
    "labels_train=labels[0:600]\n",
    "\n",
    "#Validation data\n",
    "features_val=features[600:800]\n",
    "labels_val=labels[600:800]\n",
    "\n",
    "#Testing data\n",
    "features_test=features[800:1000]\n",
    "labels_test=labels[800:1000]\n",
    "\n",
    "#Checking shape of training and testing variables\n",
    "features_train.shape,features_test.shape,labels_train.shape,labels_test.shape"
   ]
  },
  {
   "cell_type": "markdown",
   "id": "66968809",
   "metadata": {},
   "source": [
    "## Feature scaling "
   ]
  },
  {
   "cell_type": "code",
   "execution_count": 32,
   "id": "d448140c",
   "metadata": {},
   "outputs": [],
   "source": [
    "from sklearn.preprocessing import StandardScaler\n",
    "sc=StandardScaler()"
   ]
  },
  {
   "cell_type": "code",
   "execution_count": 33,
   "id": "ce199c0e",
   "metadata": {},
   "outputs": [
    {
     "data": {
      "text/plain": [
       "array([[-0.56176733, -0.42827787, -0.14581086, ..., -0.39142909,\n",
       "        -0.53818868, -1.23612573],\n",
       "       [-0.82222578, -1.27475677,  0.45966409, ...,  0.35285786,\n",
       "         0.92452212,  0.0616157 ],\n",
       "       [-2.28285676, -2.12173381, -1.68483088, ...,  0.97459864,\n",
       "         1.61656711,  1.41709568],\n",
       "       ...,\n",
       "       [-0.06061188,  0.22254303,  0.31983719, ..., -0.13270662,\n",
       "         0.13017711,  0.58324677],\n",
       "       [ 1.04779221,  0.57836249,  0.61825878, ..., -1.41115766,\n",
       "        -0.85907654, -1.09343102],\n",
       "       [-0.76351985, -0.06017888, -0.83750704, ..., -1.10068938,\n",
       "        -1.01504562, -1.25932717]])"
      ]
     },
     "execution_count": 33,
     "metadata": {},
     "output_type": "execute_result"
    }
   ],
   "source": [
    "#Transforming features_train to a standard scale\n",
    "features_train=sc.fit_transform(features_train)\n",
    "features_train"
   ]
  },
  {
   "cell_type": "code",
   "execution_count": 37,
   "id": "7ab9828f",
   "metadata": {},
   "outputs": [
    {
     "name": "stdout",
     "output_type": "stream",
     "text": [
      "600\n"
     ]
    }
   ],
   "source": [
    "features_train.tolist()\n",
    "print(len(features_train))"
   ]
  },
  {
   "cell_type": "code",
   "execution_count": 34,
   "id": "c7c5ae1e",
   "metadata": {},
   "outputs": [
    {
     "data": {
      "text/plain": [
       "array([[-0.61366474,  0.8921163 ,  0.25326711, ...,  0.44704962,\n",
       "         1.15370791,  0.32442307],\n",
       "       [ 0.56227779,  1.2009041 ,  0.13066414, ..., -0.65931983,\n",
       "         0.16065284, -0.64682533],\n",
       "       [-0.3574392 , -0.74213102, -2.06831547, ...,  0.88956178,\n",
       "         1.03997269,  1.30688756],\n",
       "       ...,\n",
       "       [ 0.85566978,  0.94908678,  0.96759574, ..., -0.13600017,\n",
       "        -1.12102158, -1.08732538],\n",
       "       [ 0.33371084,  1.09285625,  1.85260584, ..., -0.92875516,\n",
       "        -0.77030964, -0.85039718],\n",
       "       [ 0.29673758, -0.03323537,  0.1809059 , ...,  0.57177147,\n",
       "         0.87346106,  0.77610519]])"
      ]
     },
     "execution_count": 34,
     "metadata": {},
     "output_type": "execute_result"
    }
   ],
   "source": [
    "#Transforming features_test to a standard scale\n",
    "features_test=sc.fit_transform(features_test)\n",
    "features_test"
   ]
  },
  {
   "cell_type": "code",
   "execution_count": 38,
   "id": "a28490c4",
   "metadata": {},
   "outputs": [
    {
     "name": "stdout",
     "output_type": "stream",
     "text": [
      "200\n"
     ]
    }
   ],
   "source": [
    "features_test.tolist()\n",
    "print(len(features_test))"
   ]
  },
  {
   "cell_type": "markdown",
   "id": "2b4ca5a3",
   "metadata": {},
   "source": [
    "## Model building "
   ]
  },
  {
   "cell_type": "code",
   "execution_count": 82,
   "id": "a02889a4",
   "metadata": {},
   "outputs": [
    {
     "name": "stdout",
     "output_type": "stream",
     "text": [
      "Epoch 1/100\n",
      "19/19 [==============================] - 0s 2ms/step - loss: 1.4537 - sparse_categorical_accuracy: 0.4933\n",
      "Epoch 2/100\n",
      "19/19 [==============================] - 0s 2ms/step - loss: 0.6765 - sparse_categorical_accuracy: 0.7833\n",
      "Epoch 3/100\n",
      "19/19 [==============================] - 0s 2ms/step - loss: 0.4129 - sparse_categorical_accuracy: 0.9000\n",
      "Epoch 4/100\n",
      "19/19 [==============================] - 0s 2ms/step - loss: 0.2623 - sparse_categorical_accuracy: 0.9533\n",
      "Epoch 5/100\n",
      "19/19 [==============================] - 0s 2ms/step - loss: 0.1919 - sparse_categorical_accuracy: 0.9567\n",
      "Epoch 6/100\n",
      "19/19 [==============================] - 0s 2ms/step - loss: 0.1051 - sparse_categorical_accuracy: 0.9817\n",
      "Epoch 7/100\n",
      "19/19 [==============================] - 0s 2ms/step - loss: 0.0810 - sparse_categorical_accuracy: 0.9817\n",
      "Epoch 8/100\n",
      "19/19 [==============================] - 0s 2ms/step - loss: 0.0537 - sparse_categorical_accuracy: 0.9917\n",
      "Epoch 9/100\n",
      "19/19 [==============================] - 0s 2ms/step - loss: 0.0564 - sparse_categorical_accuracy: 0.9883\n",
      "Epoch 10/100\n",
      "19/19 [==============================] - 0s 2ms/step - loss: 0.0175 - sparse_categorical_accuracy: 1.0000\n",
      "Epoch 11/100\n",
      "19/19 [==============================] - 0s 2ms/step - loss: 0.0431 - sparse_categorical_accuracy: 0.9917\n",
      "Epoch 12/100\n",
      "19/19 [==============================] - 0s 2ms/step - loss: 0.0484 - sparse_categorical_accuracy: 0.9883\n",
      "Epoch 13/100\n",
      "19/19 [==============================] - 0s 2ms/step - loss: 0.0128 - sparse_categorical_accuracy: 0.9983\n",
      "Epoch 14/100\n",
      "19/19 [==============================] - 0s 2ms/step - loss: 0.0030 - sparse_categorical_accuracy: 1.0000\n",
      "Epoch 15/100\n",
      "19/19 [==============================] - 0s 2ms/step - loss: 0.0019 - sparse_categorical_accuracy: 1.0000\n",
      "Epoch 16/100\n",
      "19/19 [==============================] - 0s 2ms/step - loss: 0.0288 - sparse_categorical_accuracy: 0.9917\n",
      "Epoch 17/100\n",
      "19/19 [==============================] - 0s 2ms/step - loss: 0.0014 - sparse_categorical_accuracy: 1.0000\n",
      "Epoch 18/100\n",
      "19/19 [==============================] - 0s 2ms/step - loss: 8.2166e-04 - sparse_categorical_accuracy: 1.0000\n",
      "Epoch 19/100\n",
      "19/19 [==============================] - 0s 2ms/step - loss: 0.0012 - sparse_categorical_accuracy: 1.0000\n",
      "Epoch 20/100\n",
      "19/19 [==============================] - 0s 2ms/step - loss: 0.0323 - sparse_categorical_accuracy: 0.9917\n",
      "Epoch 21/100\n",
      "19/19 [==============================] - 0s 2ms/step - loss: 4.1286e-04 - sparse_categorical_accuracy: 1.0000\n",
      "Epoch 22/100\n",
      "19/19 [==============================] - 0s 2ms/step - loss: 2.4397e-04 - sparse_categorical_accuracy: 1.0000\n",
      "Epoch 23/100\n",
      "19/19 [==============================] - 0s 2ms/step - loss: 1.6102e-04 - sparse_categorical_accuracy: 1.0000\n",
      "Epoch 24/100\n",
      "19/19 [==============================] - 0s 2ms/step - loss: 9.2760e-05 - sparse_categorical_accuracy: 1.0000\n",
      "Epoch 25/100\n",
      "19/19 [==============================] - 0s 2ms/step - loss: 0.0721 - sparse_categorical_accuracy: 0.9850\n",
      "Epoch 26/100\n",
      "19/19 [==============================] - 0s 2ms/step - loss: 7.7830e-04 - sparse_categorical_accuracy: 1.0000\n",
      "Epoch 27/100\n",
      "19/19 [==============================] - 0s 2ms/step - loss: 1.5009e-04 - sparse_categorical_accuracy: 1.0000\n",
      "Epoch 28/100\n",
      "19/19 [==============================] - 0s 2ms/step - loss: 1.0334e-04 - sparse_categorical_accuracy: 1.0000\n",
      "Epoch 29/100\n",
      "19/19 [==============================] - 0s 2ms/step - loss: 6.5337e-05 - sparse_categorical_accuracy: 1.0000\n",
      "Epoch 30/100\n",
      "19/19 [==============================] - 0s 2ms/step - loss: 4.0849e-05 - sparse_categorical_accuracy: 1.0000\n",
      "Epoch 31/100\n",
      "19/19 [==============================] - 0s 2ms/step - loss: 2.4675e-05 - sparse_categorical_accuracy: 1.0000\n",
      "Epoch 32/100\n",
      "19/19 [==============================] - 0s 2ms/step - loss: 1.5356e-05 - sparse_categorical_accuracy: 1.0000\n",
      "Epoch 33/100\n",
      "19/19 [==============================] - 0s 2ms/step - loss: 9.1484e-06 - sparse_categorical_accuracy: 1.0000\n",
      "Epoch 34/100\n",
      "19/19 [==============================] - 0s 2ms/step - loss: 0.0875 - sparse_categorical_accuracy: 0.9933\n",
      "Epoch 35/100\n",
      "19/19 [==============================] - 0s 2ms/step - loss: 0.0017 - sparse_categorical_accuracy: 0.9983\n",
      "Epoch 36/100\n",
      "19/19 [==============================] - 0s 2ms/step - loss: 1.2518e-05 - sparse_categorical_accuracy: 1.0000\n",
      "Epoch 37/100\n",
      "19/19 [==============================] - 0s 2ms/step - loss: 7.7850e-06 - sparse_categorical_accuracy: 1.0000\n",
      "Epoch 38/100\n",
      "19/19 [==============================] - 0s 2ms/step - loss: 5.2454e-06 - sparse_categorical_accuracy: 1.0000\n",
      "Epoch 39/100\n",
      "19/19 [==============================] - 0s 2ms/step - loss: 3.6896e-06 - sparse_categorical_accuracy: 1.0000\n",
      "Epoch 40/100\n",
      "19/19 [==============================] - 0s 2ms/step - loss: 2.4998e-06 - sparse_categorical_accuracy: 1.0000\n",
      "Epoch 41/100\n",
      "19/19 [==============================] - 0s 2ms/step - loss: 1.4990e-06 - sparse_categorical_accuracy: 1.0000\n",
      "Epoch 42/100\n",
      "19/19 [==============================] - 0s 2ms/step - loss: 9.3221e-07 - sparse_categorical_accuracy: 1.0000\n",
      "Epoch 43/100\n",
      "19/19 [==============================] - 0s 2ms/step - loss: 5.8989e-07 - sparse_categorical_accuracy: 1.0000\n",
      "Epoch 44/100\n",
      "19/19 [==============================] - 0s 2ms/step - loss: 3.7928e-07 - sparse_categorical_accuracy: 1.0000\n",
      "Epoch 45/100\n",
      "19/19 [==============================] - 0s 2ms/step - loss: 2.5709e-07 - sparse_categorical_accuracy: 1.0000\n",
      "Epoch 46/100\n",
      "19/19 [==============================] - 0s 2ms/step - loss: 1.7027e-07 - sparse_categorical_accuracy: 1.0000\n",
      "Epoch 47/100\n",
      "19/19 [==============================] - 0s 2ms/step - loss: 1.2000e-07 - sparse_categorical_accuracy: 1.0000\n",
      "Epoch 48/100\n",
      "19/19 [==============================] - 0s 2ms/step - loss: 9.1592e-08 - sparse_categorical_accuracy: 1.0000\n",
      "Epoch 49/100\n",
      "19/19 [==============================] - 0s 2ms/step - loss: 6.9737e-08 - sparse_categorical_accuracy: 1.0000\n",
      "Epoch 50/100\n",
      "19/19 [==============================] - 0s 2ms/step - loss: 5.6227e-08 - sparse_categorical_accuracy: 1.0000\n",
      "Epoch 51/100\n",
      "19/19 [==============================] - 0s 2ms/step - loss: 4.8081e-08 - sparse_categorical_accuracy: 1.0000\n",
      "Epoch 52/100\n",
      "19/19 [==============================] - 0s 2ms/step - loss: 4.1127e-08 - sparse_categorical_accuracy: 1.0000\n",
      "Epoch 53/100\n",
      "19/19 [==============================] - 0s 2ms/step - loss: 3.5763e-08 - sparse_categorical_accuracy: 1.0000\n",
      "Epoch 54/100\n",
      "19/19 [==============================] - 0s 2ms/step - loss: 3.1193e-08 - sparse_categorical_accuracy: 1.0000\n",
      "Epoch 55/100\n",
      "19/19 [==============================] - 0s 2ms/step - loss: 2.6623e-08 - sparse_categorical_accuracy: 1.0000\n",
      "Epoch 56/100\n",
      "19/19 [==============================] - 0s 2ms/step - loss: 2.2252e-08 - sparse_categorical_accuracy: 1.0000\n",
      "Epoch 57/100\n",
      "19/19 [==============================] - 0s 2ms/step - loss: 2.0663e-08 - sparse_categorical_accuracy: 1.0000\n",
      "Epoch 58/100\n",
      "19/19 [==============================] - 0s 2ms/step - loss: 1.5100e-08 - sparse_categorical_accuracy: 1.0000\n",
      "Epoch 59/100\n",
      "19/19 [==============================] - 0s 2ms/step - loss: 1.4504e-08 - sparse_categorical_accuracy: 1.0000\n",
      "Epoch 60/100\n",
      "19/19 [==============================] - 0s 2ms/step - loss: 1.3312e-08 - sparse_categorical_accuracy: 1.0000\n",
      "Epoch 61/100\n",
      "19/19 [==============================] - 0s 2ms/step - loss: 1.1722e-08 - sparse_categorical_accuracy: 1.0000\n",
      "Epoch 62/100\n",
      "19/19 [==============================] - 0s 2ms/step - loss: 1.1126e-08 - sparse_categorical_accuracy: 1.0000\n",
      "Epoch 63/100\n",
      "19/19 [==============================] - 0s 2ms/step - loss: 1.0133e-08 - sparse_categorical_accuracy: 1.0000\n",
      "Epoch 64/100\n",
      "19/19 [==============================] - 0s 2ms/step - loss: 9.1394e-09 - sparse_categorical_accuracy: 1.0000\n",
      "Epoch 65/100\n",
      "19/19 [==============================] - 0s 2ms/step - loss: 8.1460e-09 - sparse_categorical_accuracy: 1.0000\n",
      "Epoch 66/100\n",
      "19/19 [==============================] - 0s 2ms/step - loss: 7.9473e-09 - sparse_categorical_accuracy: 1.0000\n",
      "Epoch 67/100\n",
      "19/19 [==============================] - 0s 2ms/step - loss: 7.1526e-09 - sparse_categorical_accuracy: 1.0000\n",
      "Epoch 68/100\n",
      "19/19 [==============================] - 0s 2ms/step - loss: 6.7552e-09 - sparse_categorical_accuracy: 1.0000\n",
      "Epoch 69/100\n",
      "19/19 [==============================] - 0s 2ms/step - loss: 5.1657e-09 - sparse_categorical_accuracy: 1.0000\n",
      "Epoch 70/100\n",
      "19/19 [==============================] - 0s 2ms/step - loss: 6.9539e-09 - sparse_categorical_accuracy: 1.0000\n",
      "Epoch 71/100\n",
      "19/19 [==============================] - 0s 2ms/step - loss: 5.7618e-09 - sparse_categorical_accuracy: 1.0000\n",
      "Epoch 72/100\n",
      "19/19 [==============================] - 0s 2ms/step - loss: 4.9671e-09 - sparse_categorical_accuracy: 1.0000\n",
      "Epoch 73/100\n",
      "19/19 [==============================] - 0s 2ms/step - loss: 5.3644e-09 - sparse_categorical_accuracy: 1.0000\n",
      "Epoch 74/100\n",
      "19/19 [==============================] - 0s 2ms/step - loss: 4.3710e-09 - sparse_categorical_accuracy: 1.0000\n",
      "Epoch 75/100\n",
      "19/19 [==============================] - 0s 2ms/step - loss: 5.9605e-09 - sparse_categorical_accuracy: 1.0000\n",
      "Epoch 76/100\n",
      "19/19 [==============================] - 0s 2ms/step - loss: 4.3710e-09 - sparse_categorical_accuracy: 1.0000\n",
      "Epoch 77/100\n",
      "19/19 [==============================] - 0s 2ms/step - loss: 4.5697e-09 - sparse_categorical_accuracy: 1.0000\n",
      "Epoch 78/100\n",
      "19/19 [==============================] - 0s 2ms/step - loss: 4.7684e-09 - sparse_categorical_accuracy: 1.0000\n",
      "Epoch 79/100\n",
      "19/19 [==============================] - 0s 2ms/step - loss: 4.3710e-09 - sparse_categorical_accuracy: 1.0000\n",
      "Epoch 80/100\n",
      "19/19 [==============================] - 0s 2ms/step - loss: 4.9671e-09 - sparse_categorical_accuracy: 1.0000\n",
      "Epoch 81/100\n",
      "19/19 [==============================] - 0s 2ms/step - loss: 4.3710e-09 - sparse_categorical_accuracy: 1.0000\n",
      "Epoch 82/100\n",
      "19/19 [==============================] - 0s 2ms/step - loss: 3.5763e-09 - sparse_categorical_accuracy: 1.0000\n",
      "Epoch 83/100\n",
      "19/19 [==============================] - 0s 2ms/step - loss: 3.1789e-09 - sparse_categorical_accuracy: 1.0000\n",
      "Epoch 84/100\n",
      "19/19 [==============================] - 0s 2ms/step - loss: 3.3776e-09 - sparse_categorical_accuracy: 1.0000\n",
      "Epoch 85/100\n",
      "19/19 [==============================] - 0s 2ms/step - loss: 5.1657e-09 - sparse_categorical_accuracy: 1.0000\n",
      "Epoch 86/100\n",
      "19/19 [==============================] - 0s 2ms/step - loss: 4.1723e-09 - sparse_categorical_accuracy: 1.0000\n",
      "Epoch 87/100\n",
      "19/19 [==============================] - 0s 2ms/step - loss: 3.5763e-09 - sparse_categorical_accuracy: 1.0000\n",
      "Epoch 88/100\n",
      "19/19 [==============================] - 0s 2ms/step - loss: 2.3842e-09 - sparse_categorical_accuracy: 1.0000\n",
      "Epoch 89/100\n",
      "19/19 [==============================] - 0s 2ms/step - loss: 3.7750e-09 - sparse_categorical_accuracy: 1.0000\n",
      "Epoch 90/100\n",
      "19/19 [==============================] - 0s 2ms/step - loss: 3.5763e-09 - sparse_categorical_accuracy: 1.0000\n",
      "Epoch 91/100\n",
      "19/19 [==============================] - 0s 2ms/step - loss: 4.3710e-09 - sparse_categorical_accuracy: 1.0000\n",
      "Epoch 92/100\n",
      "19/19 [==============================] - 0s 2ms/step - loss: 2.7815e-09 - sparse_categorical_accuracy: 1.0000\n",
      "Epoch 93/100\n",
      "19/19 [==============================] - 0s 2ms/step - loss: 3.5763e-09 - sparse_categorical_accuracy: 1.0000\n",
      "Epoch 94/100\n",
      "19/19 [==============================] - 0s 2ms/step - loss: 4.9671e-09 - sparse_categorical_accuracy: 1.0000\n",
      "Epoch 95/100\n",
      "19/19 [==============================] - 0s 2ms/step - loss: 2.9802e-09 - sparse_categorical_accuracy: 1.0000\n",
      "Epoch 96/100\n",
      "19/19 [==============================] - 0s 2ms/step - loss: 2.7815e-09 - sparse_categorical_accuracy: 1.0000\n",
      "Epoch 97/100\n",
      "19/19 [==============================] - 0s 2ms/step - loss: 3.5763e-09 - sparse_categorical_accuracy: 1.0000\n",
      "Epoch 98/100\n",
      "19/19 [==============================] - 0s 2ms/step - loss: 3.5763e-09 - sparse_categorical_accuracy: 1.0000\n",
      "Epoch 99/100\n",
      "19/19 [==============================] - 0s 2ms/step - loss: 3.7750e-09 - sparse_categorical_accuracy: 1.0000\n",
      "Epoch 100/100\n",
      "19/19 [==============================] - 0s 2ms/step - loss: 2.7815e-09 - sparse_categorical_accuracy: 1.0000\n"
     ]
    },
    {
     "data": {
      "text/plain": [
       "<keras.callbacks.History at 0x29b3d76d0>"
      ]
     },
     "execution_count": 82,
     "metadata": {},
     "output_type": "execute_result"
    }
   ],
   "source": [
    "#Adding input layer, 2 dense layers and output later\n",
    "inputs=keras.Input(shape=(498), name=\"feature\")\n",
    "x=keras.layers.Dense(300,activation=\"tanh\",name=\"dense_1\")(inputs)\n",
    "x=keras.layers.Dense(200,activation=\"relu\",name=\"dense_2\")(x)\n",
    "outputs=keras.layers.Dense(10,activation=\"softmax\",name=\"predictions\")(x)\n",
    "\n",
    "#Defining model\n",
    "model=keras.Model(inputs=inputs,outputs=outputs)\n",
    "\n",
    "#Compiling model\n",
    "model.compile(optimizer=keras.optimizers.RMSprop(),loss=keras.losses.SparseCategoricalCrossentropy(),metrics=[keras.metrics.SparseCategoricalAccuracy()])\n",
    "\n",
    "\n",
    "#Fitting the model\n",
    "model.fit(features_train.tolist(),labels_train.tolist(),verbose=1,epochs=100)"
   ]
  },
  {
   "cell_type": "markdown",
   "id": "e45f0c1d",
   "metadata": {},
   "source": [
    "## Model evaluation "
   ]
  },
  {
   "cell_type": "code",
   "execution_count": 83,
   "id": "667a2b0c",
   "metadata": {},
   "outputs": [
    {
     "name": "stdout",
     "output_type": "stream",
     "text": [
      "19/19 [==============================] - 0s 799us/step - loss: 2.1855e-09 - sparse_categorical_accuracy: 1.0000\n",
      "Accuracy:100.0%\n"
     ]
    }
   ],
   "source": [
    "#Accuracy of training data\n",
    "score=model.evaluate(x=features_train.tolist(),y=labels_train.tolist())\n",
    "print('Accuracy:'+str(score[1]*100)+'%')"
   ]
  },
  {
   "cell_type": "code",
   "execution_count": 84,
   "id": "7a1f5b00",
   "metadata": {},
   "outputs": [
    {
     "name": "stdout",
     "output_type": "stream",
     "text": [
      "7/7 [==============================] - 0s 892us/step - loss: 2.7339 - sparse_categorical_accuracy: 0.7000\n",
      "Accuracy:69.9999988079071%\n"
     ]
    }
   ],
   "source": [
    "#Accuracy on testing data\n",
    "score=model.evaluate(x=features_test.tolist(),y=labels_test.tolist())\n",
    "print('Accuracy:'+str(score[1]*100)+'%')"
   ]
  },
  {
   "cell_type": "markdown",
   "id": "ad4cea24",
   "metadata": {},
   "source": [
    "## Random value prediction "
   ]
  },
  {
   "cell_type": "code",
   "execution_count": null,
   "id": "8c718e00",
   "metadata": {},
   "outputs": [],
   "source": [
    "#Declaring a function to predict genre of input audio\n",
    "def prediction(file_path):\n",
    "    feature=get_features(file_path)\n",
    "    feature=feature.reshape(1,498)\n",
    "    feature=sc.fit_transform(feature)\n",
    "    y=model.predict(feature)\n",
    "    ind=numpy.argmax(y)\n",
    "    print(genres[ind])"
   ]
  },
  {
   "cell_type": "code",
   "execution_count": null,
   "id": "888b8e05",
   "metadata": {},
   "outputs": [],
   "source": [
    "#prediction(\"/Users/casarulez/Downloads/in.mp3\")"
   ]
  },
  {
   "cell_type": "markdown",
   "id": "ef5321d5",
   "metadata": {},
   "source": [
    "## Saving the model "
   ]
  },
  {
   "cell_type": "code",
   "execution_count": null,
   "id": "185c9f46",
   "metadata": {},
   "outputs": [],
   "source": [
    "model.save(\"genre.h5\")"
   ]
  }
 ],
 "metadata": {
  "kernelspec": {
   "display_name": "myenv",
   "language": "python",
   "name": "myenv"
  },
  "language_info": {
   "codemirror_mode": {
    "name": "ipython",
    "version": 3
   },
   "file_extension": ".py",
   "mimetype": "text/x-python",
   "name": "python",
   "nbconvert_exporter": "python",
   "pygments_lexer": "ipython3",
   "version": "3.10.1"
  }
 },
 "nbformat": 4,
 "nbformat_minor": 5
}
