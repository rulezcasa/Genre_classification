{
 "cells": [
  {
   "cell_type": "markdown",
   "id": "3d1bf38f",
   "metadata": {},
   "source": [
    "# Workflow:\n",
    "\n",
    "1. Importing necessary packages\n",
    "2. Feature exraction and creation of dataset\n",
    "3. Train - test split\n",
    "4. Feature scaling\n",
    "5. Model building\n",
    "6. Evaluation metrics\n",
    "7. Random value prediction\n",
    "8. Saving the model"
   ]
  },
  {
   "cell_type": "markdown",
   "id": "5e2a2646",
   "metadata": {},
   "source": [
    "## Importing necessary packages"
   ]
  },
  {
   "cell_type": "code",
   "execution_count": 2,
   "id": "7dbe6bfa",
   "metadata": {},
   "outputs": [],
   "source": [
    "import os\n",
    "import numpy as np\n",
    "from tensorflow import keras\n",
    "import librosa\n",
    "from matplotlib import pyplot\n",
    "import flask\n",
    "import pandas as pd\n",
    "import soundfile as sf\n",
    "from keras.models import Sequential\n",
    "from keras.layers import Dense"
   ]
  },
  {
   "cell_type": "markdown",
   "id": "f37f88a2",
   "metadata": {},
   "source": [
    "## Feature extraction using librosa"
   ]
  },
  {
   "cell_type": "markdown",
   "id": "76a66696",
   "metadata": {},
   "source": [
    "1. Mel frequency Cepstral coefficients\n",
    "2. Mel spectrogram\n",
    "3. Chroma vector\n",
    "4. Tonal Centroid Features"
   ]
  },
  {
   "cell_type": "markdown",
   "id": "5c56764c",
   "metadata": {},
   "source": [
    "### Mel frequency cepstral coefficients  "
   ]
  },
  {
   "cell_type": "code",
   "execution_count": 12,
   "id": "1ce3f46d",
   "metadata": {},
   "outputs": [],
   "source": [
    "#Defining a function that passses audio file as a parameter to obtain MFCC\n",
    "def get_mfcc(file_path):\n",
    "    \n",
    "    #Converting the mp3 audio data to wav as supported by librosa\n",
    "    data, samplerate = sf.read(file_path)\n",
    "    sf.write(\"temp.wav\", data, samplerate)\n",
    "    \n",
    "    #Passing the audio file to return MFCC\n",
    "    y,sr=librosa.load(\"temp.wav\",offset=0,duration=30)\n",
    "    mfcc=np.array(librosa.feature.mfcc(y=y,sr=sr))\n",
    "    return mfcc"
   ]
  },
  {
   "cell_type": "markdown",
   "id": "c937d824",
   "metadata": {},
   "source": [
    "### Mel Spectrogram "
   ]
  },
  {
   "cell_type": "code",
   "execution_count": 13,
   "id": "e807af82",
   "metadata": {},
   "outputs": [],
   "source": [
    "def get_melspectrogram(file_path):\n",
    "    \n",
    "    #Converting the mp3 audio data to wav as supported by librosa\n",
    "    data, samplerate = sf.read(file_path)\n",
    "    sf.write(\"temp.wav\", data, samplerate)\n",
    "    \n",
    "    #Passing the audio file to return melspectrogram\n",
    "    y,sr=librosa.load(\"temp.wav\",offset=0,duration=30)\n",
    "    melspectrogram=np.array(librosa.feature.melspectrogram(y=y,sr=sr))\n",
    "    return melspectrogram"
   ]
  },
  {
   "cell_type": "markdown",
   "id": "3d8ef0bb",
   "metadata": {},
   "source": [
    "### Chroma vector "
   ]
  },
  {
   "cell_type": "code",
   "execution_count": 14,
   "id": "3f18a992",
   "metadata": {},
   "outputs": [],
   "source": [
    "def get_chroma_vector(file_path):\n",
    "    #Converting the audio data to wav as supported by librosa\n",
    "    data, samplerate = sf.read(file_path)\n",
    "    sf.write(\"temp.wav\", data, samplerate)\n",
    "    \n",
    "    #Passing the audio file to return chroma\n",
    "    y,sr=librosa.load(\"temp.wav\",offset=0,duration=30)\n",
    "    chroma=np.array(librosa.feature.chroma_stft(y=y,sr=sr))\n",
    "    return chroma"
   ]
  },
  {
   "cell_type": "markdown",
   "id": "e56ca91b",
   "metadata": {},
   "source": [
    "### Tonal centroid features "
   ]
  },
  {
   "cell_type": "code",
   "execution_count": 15,
   "id": "2083c7bc",
   "metadata": {},
   "outputs": [],
   "source": [
    "def get_tonnetz(file_path):\n",
    "    #Converting the audio data to wav as supported by librosa\n",
    "    data, samplerate = sf.read(file_path)\n",
    "    sf.write(\"temp.wav\", data, samplerate)\n",
    "    \n",
    "    #Passing the audio file to return tonnetz\n",
    "    y,sr=librosa.load(\"temp.wav\",offset=0,duration=30)\n",
    "    tonnetz=np.array(librosa.feature.tonnetz(y=y,sr=sr))\n",
    "    return tonnetz"
   ]
  },
  {
   "cell_type": "code",
   "execution_count": 16,
   "id": "4b276681",
   "metadata": {},
   "outputs": [],
   "source": [
    "#Defining a function to extract all features\n",
    "def get_features(file_path):\n",
    "    \n",
    "    #Converting the audio data to wav as supported by librosa\n",
    "    data, samplerate = sf.read(file_path)\n",
    "    sf.write(\"temp.wav\", data, samplerate)\n",
    "    \n",
    "    #MFCC\n",
    "    mfcc=get_mfcc(\"temp.wav\")\n",
    "    mfcc_feature=np.concatenate((mfcc.mean(axis=1),mfcc.min(axis=1),mfcc.max(axis=1)))\n",
    "    \n",
    "    #Melspectrogram\n",
    "    melspectrogram=get_melspectrogram(\"temp.wav\")\n",
    "    melspectrogram_feature=np.concatenate((melspectrogram.mean(axis=1),melspectrogram.min(axis=1),melspectrogram.max(axis=1)))\n",
    "    \n",
    "    #Chroma\n",
    "    chroma=get_chroma_vector(\"temp.wav\")\n",
    "    chroma_feature=np.concatenate((chroma.mean(axis=1),chroma.min(axis=1),chroma.max(axis=1)))\n",
    "    \n",
    "    #Tonnetz\n",
    "    tntz=get_tonnetz(\"temp.wav\")\n",
    "    tntz_feature=np.concatenate((tntz.mean(axis=1),tntz.min(axis=1),tntz.max(axis=1)))\n",
    "    \n",
    "    #All features\n",
    "    feature=np.concatenate((chroma_feature,melspectrogram_feature,mfcc_feature,tntz_feature))\n",
    "    return feature"
   ]
  },
  {
   "cell_type": "markdown",
   "id": "c89a3975",
   "metadata": {},
   "source": [
    "## Calculating features for the full dataset "
   ]
  },
  {
   "cell_type": "code",
   "execution_count": 17,
   "id": "1aa15476",
   "metadata": {},
   "outputs": [
    {
     "name": "stdout",
     "output_type": "stream",
     "text": [
      "Calculating features for genre: blues\n",
      "Calculating features for genre: classical\n",
      "Calculating features for genre: country\n",
      "Calculating features for genre: disco\n",
      "Calculating features for genre: hiphop\n",
      "Calculating features for genre: jazz\n",
      "Calculating features for genre: metal\n",
      "Calculating features for genre: pop\n",
      "Calculating features for genre: reggae\n",
      "Calculating features for genre: rock\n",
      "Feature calculation complete\n"
     ]
    }
   ],
   "source": [
    "#Defining directory, genres, feature and labels\n",
    "directory=\"/Users/casarulez/Projects/Genre_classification/genres\"\n",
    "genres=[\"blues\",\"classical\",\"country\",\"disco\",\"hiphop\",\"jazz\",\"metal\",\"pop\",\"reggae\",\"rock\"]\n",
    "features=[]\n",
    "labels=[]\n",
    "\n",
    "#Iterating over data directory to calculate features\n",
    "for genre in genres:\n",
    "    print(\"Calculating features for genre:\",genre)\n",
    "    for file in os.listdir(directory+\"/\"+genre):\n",
    "            file_path=directory+\"/\"+genre+\"/\"+file\n",
    "            \n",
    "            features.append(get_features(file_path))\n",
    "            label=genres.index(genre)\n",
    "            labels.append(label)\n",
    "print(\"Feature calculation complete\")"
   ]
  },
  {
   "cell_type": "markdown",
   "id": "63a6b74f",
   "metadata": {},
   "source": [
    "## Splitting the dataset into training, validation and testing "
   ]
  },
  {
   "cell_type": "code",
   "execution_count": 18,
   "id": "6baeb7f4",
   "metadata": {},
   "outputs": [
    {
     "data": {
      "text/plain": [
       "((600, 498), (200, 498), (600,), (200,))"
      ]
     },
     "execution_count": 18,
     "metadata": {},
     "output_type": "execute_result"
    }
   ],
   "source": [
    "#Shufling features and labels\n",
    "permutations=np.random.permutation(1000)\n",
    "features=np.array(features)[permutations]\n",
    "labels=np.array(labels)[permutations]\n",
    "\n",
    "#Training data\n",
    "features_train=features[0:600]\n",
    "labels_train=labels[0:600]\n",
    "\n",
    "#Valutation data\n",
    "features_val=features[600:800]\n",
    "labels_val=labels[600:800]\n",
    "\n",
    "#Testing data\n",
    "features_test=features[800:1000]\n",
    "labels_test=labels[800:1000]\n",
    "\n",
    "#Checking shape of training and testing variables\n",
    "features_train.shape,features_test.shape,labels_train.shape,labels_test.shape"
   ]
  },
  {
   "cell_type": "markdown",
   "id": "66968809",
   "metadata": {},
   "source": [
    "## Feature scaling "
   ]
  },
  {
   "cell_type": "code",
   "execution_count": 19,
   "id": "d448140c",
   "metadata": {},
   "outputs": [],
   "source": [
    "from sklearn.preprocessing import StandardScaler\n",
    "sc=StandardScaler()"
   ]
  },
  {
   "cell_type": "code",
   "execution_count": 20,
   "id": "ce199c0e",
   "metadata": {},
   "outputs": [
    {
     "data": {
      "text/plain": [
       "array([[-2.21238109, -0.57468604, -2.14202423, ...,  1.53447381,\n",
       "         1.81224385,  0.92467267],\n",
       "       [-0.16635519, -0.66663989,  0.13396294, ...,  0.20336491,\n",
       "         0.09194775,  0.94132004],\n",
       "       [ 0.50656427,  0.5108785 ,  0.45141395, ..., -0.3082327 ,\n",
       "        -0.61391297, -0.84090012],\n",
       "       ...,\n",
       "       [ 0.34622487,  0.62232654, -0.23390562, ..., -0.81845344,\n",
       "        -0.78983654, -0.75691484],\n",
       "       [-0.36225805, -0.70957689, -1.96701227, ...,  0.69206162,\n",
       "         0.8343396 ,  1.1182848 ],\n",
       "       [-0.77533632, -0.41126494, -1.08923089, ..., -0.4054274 ,\n",
       "         0.11173669, -0.26451393]])"
      ]
     },
     "execution_count": 20,
     "metadata": {},
     "output_type": "execute_result"
    }
   ],
   "source": [
    "#Transforming features_train to a standard scale\n",
    "features_train=sc.fit_transform(features_train)\n",
    "features_train"
   ]
  },
  {
   "cell_type": "code",
   "execution_count": 21,
   "id": "c7c5ae1e",
   "metadata": {},
   "outputs": [
    {
     "data": {
      "text/plain": [
       "array([[-0.590719  ,  0.10698781,  0.46730602, ..., -0.93119026,\n",
       "        -0.68793761, -0.57006243],\n",
       "       [ 2.44140763,  1.87906888,  0.83436794, ..., -0.44275819,\n",
       "        -0.97444311, -0.58357724],\n",
       "       [-0.32788661, -0.51633827,  0.74740211, ...,  0.42490856,\n",
       "        -0.11888527,  0.27133907],\n",
       "       ...,\n",
       "       [-0.65551112,  0.52315394, -0.72644979, ...,  0.29331264,\n",
       "         0.80896654,  0.54202185],\n",
       "       [-0.47417958,  0.0203973 ,  0.0630657 , ..., -0.26928205,\n",
       "        -0.64464351, -0.68128041],\n",
       "       [-0.67014241, -1.37524794, -1.94561459, ..., -0.17864428,\n",
       "        -0.42300255,  0.55298365]])"
      ]
     },
     "execution_count": 21,
     "metadata": {},
     "output_type": "execute_result"
    }
   ],
   "source": [
    "#Transforming features_test to a standard scale\n",
    "features_test=sc.fit_transform(features_test)\n",
    "features_test"
   ]
  },
  {
   "cell_type": "markdown",
   "id": "2b4ca5a3",
   "metadata": {},
   "source": [
    "## Model building "
   ]
  },
  {
   "cell_type": "code",
   "execution_count": 22,
   "id": "a02889a4",
   "metadata": {},
   "outputs": [
    {
     "name": "stdout",
     "output_type": "stream",
     "text": [
      "Epoch 1/150\n",
      " 1/19 [>.............................] - ETA: 3s - loss: 2.5515 - sparse_categorical_accuracy: 0.0938"
     ]
    },
    {
     "name": "stderr",
     "output_type": "stream",
     "text": [
      "2023-10-11 10:31:18.129086: W tensorflow/tsl/platform/profile_utils/cpu_utils.cc:128] Failed to get CPU frequency: 0 Hz\n"
     ]
    },
    {
     "name": "stdout",
     "output_type": "stream",
     "text": [
      "19/19 [==============================] - 0s 2ms/step - loss: 1.6024 - sparse_categorical_accuracy: 0.4667\n",
      "Epoch 2/150\n",
      "19/19 [==============================] - 0s 2ms/step - loss: 0.7669 - sparse_categorical_accuracy: 0.7783\n",
      "Epoch 3/150\n",
      "19/19 [==============================] - 0s 2ms/step - loss: 0.4858 - sparse_categorical_accuracy: 0.8733\n",
      "Epoch 4/150\n",
      "19/19 [==============================] - 0s 2ms/step - loss: 0.3197 - sparse_categorical_accuracy: 0.9150\n",
      "Epoch 5/150\n",
      "19/19 [==============================] - 0s 2ms/step - loss: 0.2161 - sparse_categorical_accuracy: 0.9400\n",
      "Epoch 6/150\n",
      "19/19 [==============================] - 0s 3ms/step - loss: 0.1616 - sparse_categorical_accuracy: 0.9583\n",
      "Epoch 7/150\n",
      "19/19 [==============================] - 0s 3ms/step - loss: 0.1021 - sparse_categorical_accuracy: 0.9800\n",
      "Epoch 8/150\n",
      "19/19 [==============================] - 0s 3ms/step - loss: 0.0679 - sparse_categorical_accuracy: 0.9850\n",
      "Epoch 9/150\n",
      "19/19 [==============================] - 0s 3ms/step - loss: 0.0668 - sparse_categorical_accuracy: 0.9817\n",
      "Epoch 10/150\n",
      "19/19 [==============================] - 0s 3ms/step - loss: 0.0216 - sparse_categorical_accuracy: 1.0000\n",
      "Epoch 11/150\n",
      "19/19 [==============================] - 0s 3ms/step - loss: 0.0288 - sparse_categorical_accuracy: 0.9917\n",
      "Epoch 12/150\n",
      "19/19 [==============================] - 0s 3ms/step - loss: 0.0209 - sparse_categorical_accuracy: 0.9950\n",
      "Epoch 13/150\n",
      "19/19 [==============================] - 0s 3ms/step - loss: 0.0486 - sparse_categorical_accuracy: 0.9883\n",
      "Epoch 14/150\n",
      "19/19 [==============================] - 0s 3ms/step - loss: 0.0091 - sparse_categorical_accuracy: 0.9967\n",
      "Epoch 15/150\n",
      "19/19 [==============================] - 0s 3ms/step - loss: 0.0021 - sparse_categorical_accuracy: 1.0000\n",
      "Epoch 16/150\n",
      "19/19 [==============================] - 0s 3ms/step - loss: 0.0566 - sparse_categorical_accuracy: 0.9917\n",
      "Epoch 17/150\n",
      "19/19 [==============================] - 0s 3ms/step - loss: 0.0027 - sparse_categorical_accuracy: 1.0000\n",
      "Epoch 18/150\n",
      "19/19 [==============================] - 0s 3ms/step - loss: 0.0012 - sparse_categorical_accuracy: 1.0000\n",
      "Epoch 19/150\n",
      "19/19 [==============================] - 0s 3ms/step - loss: 7.8333e-04 - sparse_categorical_accuracy: 1.0000\n",
      "Epoch 20/150\n",
      "19/19 [==============================] - 0s 3ms/step - loss: 5.7045e-04 - sparse_categorical_accuracy: 1.0000\n",
      "Epoch 21/150\n",
      "19/19 [==============================] - 0s 3ms/step - loss: 4.5677e-04 - sparse_categorical_accuracy: 1.0000\n",
      "Epoch 22/150\n",
      "19/19 [==============================] - 0s 3ms/step - loss: 3.6254e-04 - sparse_categorical_accuracy: 1.0000\n",
      "Epoch 23/150\n",
      "19/19 [==============================] - 0s 3ms/step - loss: 3.0763e-04 - sparse_categorical_accuracy: 1.0000\n",
      "Epoch 24/150\n",
      "19/19 [==============================] - 0s 3ms/step - loss: 2.5806e-04 - sparse_categorical_accuracy: 1.0000\n",
      "Epoch 25/150\n",
      "19/19 [==============================] - 0s 3ms/step - loss: 2.2592e-04 - sparse_categorical_accuracy: 1.0000\n",
      "Epoch 26/150\n",
      "19/19 [==============================] - 0s 3ms/step - loss: 2.0034e-04 - sparse_categorical_accuracy: 1.0000\n",
      "Epoch 27/150\n",
      "19/19 [==============================] - 0s 3ms/step - loss: 1.8072e-04 - sparse_categorical_accuracy: 1.0000\n",
      "Epoch 28/150\n",
      "19/19 [==============================] - 0s 3ms/step - loss: 1.6529e-04 - sparse_categorical_accuracy: 1.0000\n",
      "Epoch 29/150\n",
      "19/19 [==============================] - 0s 3ms/step - loss: 1.5370e-04 - sparse_categorical_accuracy: 1.0000\n",
      "Epoch 30/150\n",
      "19/19 [==============================] - 0s 3ms/step - loss: 1.4037e-04 - sparse_categorical_accuracy: 1.0000\n",
      "Epoch 31/150\n",
      "19/19 [==============================] - 0s 3ms/step - loss: 1.3180e-04 - sparse_categorical_accuracy: 1.0000\n",
      "Epoch 32/150\n",
      "19/19 [==============================] - 0s 3ms/step - loss: 1.2231e-04 - sparse_categorical_accuracy: 1.0000\n",
      "Epoch 33/150\n",
      "19/19 [==============================] - 0s 3ms/step - loss: 1.1515e-04 - sparse_categorical_accuracy: 1.0000\n",
      "Epoch 34/150\n",
      "19/19 [==============================] - 0s 3ms/step - loss: 1.0782e-04 - sparse_categorical_accuracy: 1.0000\n",
      "Epoch 35/150\n",
      "19/19 [==============================] - 0s 3ms/step - loss: 1.0218e-04 - sparse_categorical_accuracy: 1.0000\n",
      "Epoch 36/150\n",
      "19/19 [==============================] - 0s 3ms/step - loss: 9.6824e-05 - sparse_categorical_accuracy: 1.0000\n",
      "Epoch 37/150\n",
      "19/19 [==============================] - 0s 3ms/step - loss: 9.1925e-05 - sparse_categorical_accuracy: 1.0000\n",
      "Epoch 38/150\n",
      "19/19 [==============================] - 0s 3ms/step - loss: 8.7473e-05 - sparse_categorical_accuracy: 1.0000\n",
      "Epoch 39/150\n",
      "19/19 [==============================] - 0s 3ms/step - loss: 8.3405e-05 - sparse_categorical_accuracy: 1.0000\n",
      "Epoch 40/150\n",
      "19/19 [==============================] - 0s 3ms/step - loss: 8.0315e-05 - sparse_categorical_accuracy: 1.0000\n",
      "Epoch 41/150\n",
      "19/19 [==============================] - 0s 3ms/step - loss: 7.6522e-05 - sparse_categorical_accuracy: 1.0000\n",
      "Epoch 42/150\n",
      "19/19 [==============================] - 0s 3ms/step - loss: 7.3768e-05 - sparse_categorical_accuracy: 1.0000\n",
      "Epoch 43/150\n",
      "19/19 [==============================] - 0s 3ms/step - loss: 7.0741e-05 - sparse_categorical_accuracy: 1.0000\n",
      "Epoch 44/150\n",
      "19/19 [==============================] - 0s 3ms/step - loss: 6.8194e-05 - sparse_categorical_accuracy: 1.0000\n",
      "Epoch 45/150\n",
      "19/19 [==============================] - 0s 3ms/step - loss: 6.5694e-05 - sparse_categorical_accuracy: 1.0000\n",
      "Epoch 46/150\n",
      "19/19 [==============================] - 0s 3ms/step - loss: 6.3556e-05 - sparse_categorical_accuracy: 1.0000\n",
      "Epoch 47/150\n",
      "19/19 [==============================] - 0s 3ms/step - loss: 6.1262e-05 - sparse_categorical_accuracy: 1.0000\n",
      "Epoch 48/150\n",
      "19/19 [==============================] - 0s 3ms/step - loss: 5.9314e-05 - sparse_categorical_accuracy: 1.0000\n",
      "Epoch 49/150\n",
      "19/19 [==============================] - 0s 3ms/step - loss: 5.7289e-05 - sparse_categorical_accuracy: 1.0000\n",
      "Epoch 50/150\n",
      "19/19 [==============================] - 0s 3ms/step - loss: 5.5530e-05 - sparse_categorical_accuracy: 1.0000\n",
      "Epoch 51/150\n",
      "19/19 [==============================] - 0s 3ms/step - loss: 5.3866e-05 - sparse_categorical_accuracy: 1.0000\n",
      "Epoch 52/150\n",
      "19/19 [==============================] - 0s 3ms/step - loss: 5.2282e-05 - sparse_categorical_accuracy: 1.0000\n",
      "Epoch 53/150\n",
      "19/19 [==============================] - 0s 3ms/step - loss: 5.0908e-05 - sparse_categorical_accuracy: 1.0000\n",
      "Epoch 54/150\n",
      "19/19 [==============================] - 0s 3ms/step - loss: 4.9450e-05 - sparse_categorical_accuracy: 1.0000\n",
      "Epoch 55/150\n",
      "19/19 [==============================] - 0s 3ms/step - loss: 4.8091e-05 - sparse_categorical_accuracy: 1.0000\n",
      "Epoch 56/150\n",
      "19/19 [==============================] - 0s 3ms/step - loss: 4.6772e-05 - sparse_categorical_accuracy: 1.0000\n",
      "Epoch 57/150\n",
      "19/19 [==============================] - 0s 3ms/step - loss: 4.5547e-05 - sparse_categorical_accuracy: 1.0000\n",
      "Epoch 58/150\n",
      "19/19 [==============================] - 0s 3ms/step - loss: 4.4433e-05 - sparse_categorical_accuracy: 1.0000\n",
      "Epoch 59/150\n",
      "19/19 [==============================] - 0s 3ms/step - loss: 4.3323e-05 - sparse_categorical_accuracy: 1.0000\n",
      "Epoch 60/150\n",
      "19/19 [==============================] - 0s 3ms/step - loss: 4.2351e-05 - sparse_categorical_accuracy: 1.0000\n",
      "Epoch 61/150\n",
      "19/19 [==============================] - 0s 3ms/step - loss: 4.1325e-05 - sparse_categorical_accuracy: 1.0000\n",
      "Epoch 62/150\n",
      "19/19 [==============================] - 0s 3ms/step - loss: 4.0382e-05 - sparse_categorical_accuracy: 1.0000\n",
      "Epoch 63/150\n",
      "19/19 [==============================] - 0s 3ms/step - loss: 3.9490e-05 - sparse_categorical_accuracy: 1.0000\n",
      "Epoch 64/150\n",
      "19/19 [==============================] - 0s 3ms/step - loss: 3.8610e-05 - sparse_categorical_accuracy: 1.0000\n",
      "Epoch 65/150\n",
      "19/19 [==============================] - 0s 3ms/step - loss: 3.7730e-05 - sparse_categorical_accuracy: 1.0000\n",
      "Epoch 66/150\n",
      "19/19 [==============================] - 0s 3ms/step - loss: 3.6983e-05 - sparse_categorical_accuracy: 1.0000\n",
      "Epoch 67/150\n",
      "19/19 [==============================] - 0s 3ms/step - loss: 3.6185e-05 - sparse_categorical_accuracy: 1.0000\n",
      "Epoch 68/150\n"
     ]
    },
    {
     "name": "stdout",
     "output_type": "stream",
     "text": [
      "19/19 [==============================] - 0s 3ms/step - loss: 3.5429e-05 - sparse_categorical_accuracy: 1.0000\n",
      "Epoch 69/150\n",
      "19/19 [==============================] - 0s 3ms/step - loss: 3.4762e-05 - sparse_categorical_accuracy: 1.0000\n",
      "Epoch 70/150\n",
      "19/19 [==============================] - 0s 3ms/step - loss: 3.4070e-05 - sparse_categorical_accuracy: 1.0000\n",
      "Epoch 71/150\n",
      "19/19 [==============================] - 0s 3ms/step - loss: 3.3423e-05 - sparse_categorical_accuracy: 1.0000\n",
      "Epoch 72/150\n",
      "19/19 [==============================] - 0s 3ms/step - loss: 3.2742e-05 - sparse_categorical_accuracy: 1.0000\n",
      "Epoch 73/150\n",
      "19/19 [==============================] - 0s 3ms/step - loss: 3.2154e-05 - sparse_categorical_accuracy: 1.0000\n",
      "Epoch 74/150\n",
      "19/19 [==============================] - 0s 3ms/step - loss: 3.1564e-05 - sparse_categorical_accuracy: 1.0000\n",
      "Epoch 75/150\n",
      "19/19 [==============================] - 0s 3ms/step - loss: 3.1026e-05 - sparse_categorical_accuracy: 1.0000\n",
      "Epoch 76/150\n",
      "19/19 [==============================] - 0s 3ms/step - loss: 3.0467e-05 - sparse_categorical_accuracy: 1.0000\n",
      "Epoch 77/150\n",
      "19/19 [==============================] - 0s 3ms/step - loss: 2.9938e-05 - sparse_categorical_accuracy: 1.0000\n",
      "Epoch 78/150\n",
      "19/19 [==============================] - 0s 3ms/step - loss: 2.9404e-05 - sparse_categorical_accuracy: 1.0000\n",
      "Epoch 79/150\n",
      "19/19 [==============================] - 0s 3ms/step - loss: 2.8906e-05 - sparse_categorical_accuracy: 1.0000\n",
      "Epoch 80/150\n",
      "19/19 [==============================] - 0s 3ms/step - loss: 2.8447e-05 - sparse_categorical_accuracy: 1.0000\n",
      "Epoch 81/150\n",
      "19/19 [==============================] - 0s 3ms/step - loss: 2.8008e-05 - sparse_categorical_accuracy: 1.0000\n",
      "Epoch 82/150\n",
      "19/19 [==============================] - 0s 3ms/step - loss: 2.7520e-05 - sparse_categorical_accuracy: 1.0000\n",
      "Epoch 83/150\n",
      "19/19 [==============================] - 0s 3ms/step - loss: 2.7090e-05 - sparse_categorical_accuracy: 1.0000\n",
      "Epoch 84/150\n",
      "19/19 [==============================] - 0s 3ms/step - loss: 2.6668e-05 - sparse_categorical_accuracy: 1.0000\n",
      "Epoch 85/150\n",
      "19/19 [==============================] - 0s 3ms/step - loss: 2.6223e-05 - sparse_categorical_accuracy: 1.0000\n",
      "Epoch 86/150\n",
      "19/19 [==============================] - 0s 3ms/step - loss: 2.5838e-05 - sparse_categorical_accuracy: 1.0000\n",
      "Epoch 87/150\n",
      "19/19 [==============================] - 0s 3ms/step - loss: 2.5491e-05 - sparse_categorical_accuracy: 1.0000\n",
      "Epoch 88/150\n",
      "19/19 [==============================] - 0s 3ms/step - loss: 2.5085e-05 - sparse_categorical_accuracy: 1.0000\n",
      "Epoch 89/150\n",
      "19/19 [==============================] - 0s 3ms/step - loss: 2.4738e-05 - sparse_categorical_accuracy: 1.0000\n",
      "Epoch 90/150\n",
      "19/19 [==============================] - 0s 3ms/step - loss: 2.4344e-05 - sparse_categorical_accuracy: 1.0000\n",
      "Epoch 91/150\n",
      "19/19 [==============================] - 0s 3ms/step - loss: 2.4016e-05 - sparse_categorical_accuracy: 1.0000\n",
      "Epoch 92/150\n",
      "19/19 [==============================] - 0s 3ms/step - loss: 2.3684e-05 - sparse_categorical_accuracy: 1.0000\n",
      "Epoch 93/150\n",
      "19/19 [==============================] - 0s 3ms/step - loss: 2.3349e-05 - sparse_categorical_accuracy: 1.0000\n",
      "Epoch 94/150\n",
      "19/19 [==============================] - 0s 3ms/step - loss: 2.3019e-05 - sparse_categorical_accuracy: 1.0000\n",
      "Epoch 95/150\n",
      "19/19 [==============================] - 0s 3ms/step - loss: 2.2742e-05 - sparse_categorical_accuracy: 1.0000\n",
      "Epoch 96/150\n",
      "19/19 [==============================] - 0s 3ms/step - loss: 2.2408e-05 - sparse_categorical_accuracy: 1.0000\n",
      "Epoch 97/150\n",
      "19/19 [==============================] - 0s 3ms/step - loss: 2.2151e-05 - sparse_categorical_accuracy: 1.0000\n",
      "Epoch 98/150\n",
      "19/19 [==============================] - 0s 3ms/step - loss: 2.1829e-05 - sparse_categorical_accuracy: 1.0000\n",
      "Epoch 99/150\n",
      "19/19 [==============================] - 0s 3ms/step - loss: 2.1558e-05 - sparse_categorical_accuracy: 1.0000\n",
      "Epoch 100/150\n",
      "19/19 [==============================] - 0s 3ms/step - loss: 2.1265e-05 - sparse_categorical_accuracy: 1.0000\n",
      "Epoch 101/150\n",
      "19/19 [==============================] - 0s 3ms/step - loss: 2.1016e-05 - sparse_categorical_accuracy: 1.0000\n",
      "Epoch 102/150\n",
      "19/19 [==============================] - 0s 3ms/step - loss: 2.0762e-05 - sparse_categorical_accuracy: 1.0000\n",
      "Epoch 103/150\n",
      "19/19 [==============================] - 0s 3ms/step - loss: 2.0492e-05 - sparse_categorical_accuracy: 1.0000\n",
      "Epoch 104/150\n",
      "19/19 [==============================] - 0s 3ms/step - loss: 2.0252e-05 - sparse_categorical_accuracy: 1.0000\n",
      "Epoch 105/150\n",
      "19/19 [==============================] - 0s 3ms/step - loss: 1.9996e-05 - sparse_categorical_accuracy: 1.0000\n",
      "Epoch 106/150\n",
      "19/19 [==============================] - 0s 3ms/step - loss: 1.9756e-05 - sparse_categorical_accuracy: 1.0000\n",
      "Epoch 107/150\n",
      "19/19 [==============================] - 0s 3ms/step - loss: 1.9525e-05 - sparse_categorical_accuracy: 1.0000\n",
      "Epoch 108/150\n",
      "19/19 [==============================] - 0s 3ms/step - loss: 1.9307e-05 - sparse_categorical_accuracy: 1.0000\n",
      "Epoch 109/150\n",
      "19/19 [==============================] - 0s 3ms/step - loss: 1.9090e-05 - sparse_categorical_accuracy: 1.0000\n",
      "Epoch 110/150\n",
      "19/19 [==============================] - 0s 3ms/step - loss: 1.8871e-05 - sparse_categorical_accuracy: 1.0000\n",
      "Epoch 111/150\n",
      "19/19 [==============================] - 0s 3ms/step - loss: 1.8645e-05 - sparse_categorical_accuracy: 1.0000\n",
      "Epoch 112/150\n",
      "19/19 [==============================] - 0s 3ms/step - loss: 1.8437e-05 - sparse_categorical_accuracy: 1.0000\n",
      "Epoch 113/150\n",
      "19/19 [==============================] - 0s 3ms/step - loss: 1.8258e-05 - sparse_categorical_accuracy: 1.0000\n",
      "Epoch 114/150\n",
      "19/19 [==============================] - 0s 3ms/step - loss: 1.8041e-05 - sparse_categorical_accuracy: 1.0000\n",
      "Epoch 115/150\n",
      "19/19 [==============================] - 0s 3ms/step - loss: 1.7847e-05 - sparse_categorical_accuracy: 1.0000\n",
      "Epoch 116/150\n",
      "19/19 [==============================] - 0s 3ms/step - loss: 1.7658e-05 - sparse_categorical_accuracy: 1.0000\n",
      "Epoch 117/150\n",
      "19/19 [==============================] - 0s 3ms/step - loss: 1.7481e-05 - sparse_categorical_accuracy: 1.0000\n",
      "Epoch 118/150\n",
      "19/19 [==============================] - 0s 3ms/step - loss: 1.7295e-05 - sparse_categorical_accuracy: 1.0000\n",
      "Epoch 119/150\n",
      "19/19 [==============================] - 0s 3ms/step - loss: 1.7105e-05 - sparse_categorical_accuracy: 1.0000\n",
      "Epoch 120/150\n",
      "19/19 [==============================] - 0s 3ms/step - loss: 1.6928e-05 - sparse_categorical_accuracy: 1.0000\n",
      "Epoch 121/150\n",
      "19/19 [==============================] - 0s 3ms/step - loss: 1.6757e-05 - sparse_categorical_accuracy: 1.0000\n",
      "Epoch 122/150\n",
      "19/19 [==============================] - 0s 3ms/step - loss: 1.6573e-05 - sparse_categorical_accuracy: 1.0000\n",
      "Epoch 123/150\n",
      "19/19 [==============================] - 0s 3ms/step - loss: 1.6418e-05 - sparse_categorical_accuracy: 1.0000\n",
      "Epoch 124/150\n",
      "19/19 [==============================] - 0s 3ms/step - loss: 1.6253e-05 - sparse_categorical_accuracy: 1.0000\n",
      "Epoch 125/150\n",
      "19/19 [==============================] - 0s 3ms/step - loss: 1.6095e-05 - sparse_categorical_accuracy: 1.0000\n",
      "Epoch 126/150\n",
      "19/19 [==============================] - 0s 3ms/step - loss: 1.5942e-05 - sparse_categorical_accuracy: 1.0000\n",
      "Epoch 127/150\n",
      "19/19 [==============================] - 0s 3ms/step - loss: 1.5779e-05 - sparse_categorical_accuracy: 1.0000\n",
      "Epoch 128/150\n",
      "19/19 [==============================] - 0s 3ms/step - loss: 1.5639e-05 - sparse_categorical_accuracy: 1.0000\n",
      "Epoch 129/150\n",
      "19/19 [==============================] - 0s 3ms/step - loss: 1.5497e-05 - sparse_categorical_accuracy: 1.0000\n",
      "Epoch 130/150\n",
      "19/19 [==============================] - 0s 3ms/step - loss: 1.5358e-05 - sparse_categorical_accuracy: 1.0000\n",
      "Epoch 131/150\n",
      "19/19 [==============================] - 0s 3ms/step - loss: 1.5199e-05 - sparse_categorical_accuracy: 1.0000\n",
      "Epoch 132/150\n",
      "19/19 [==============================] - 0s 3ms/step - loss: 1.5065e-05 - sparse_categorical_accuracy: 1.0000\n",
      "Epoch 133/150\n",
      "19/19 [==============================] - 0s 3ms/step - loss: 1.4921e-05 - sparse_categorical_accuracy: 1.0000\n",
      "Epoch 134/150\n"
     ]
    },
    {
     "name": "stdout",
     "output_type": "stream",
     "text": [
      "19/19 [==============================] - 0s 3ms/step - loss: 1.4784e-05 - sparse_categorical_accuracy: 1.0000\n",
      "Epoch 135/150\n",
      "19/19 [==============================] - 0s 3ms/step - loss: 1.4645e-05 - sparse_categorical_accuracy: 1.0000\n",
      "Epoch 136/150\n",
      "19/19 [==============================] - 0s 3ms/step - loss: 1.4518e-05 - sparse_categorical_accuracy: 1.0000\n",
      "Epoch 137/150\n",
      "19/19 [==============================] - 0s 3ms/step - loss: 1.4395e-05 - sparse_categorical_accuracy: 1.0000\n",
      "Epoch 138/150\n",
      "19/19 [==============================] - 0s 3ms/step - loss: 1.4272e-05 - sparse_categorical_accuracy: 1.0000\n",
      "Epoch 139/150\n",
      "19/19 [==============================] - 0s 3ms/step - loss: 1.4137e-05 - sparse_categorical_accuracy: 1.0000\n",
      "Epoch 140/150\n",
      "19/19 [==============================] - 0s 3ms/step - loss: 1.4022e-05 - sparse_categorical_accuracy: 1.0000\n",
      "Epoch 141/150\n",
      "19/19 [==============================] - 0s 3ms/step - loss: 1.3898e-05 - sparse_categorical_accuracy: 1.0000\n",
      "Epoch 142/150\n",
      "19/19 [==============================] - 0s 3ms/step - loss: 1.3777e-05 - sparse_categorical_accuracy: 1.0000\n",
      "Epoch 143/150\n",
      "19/19 [==============================] - 0s 3ms/step - loss: 1.3662e-05 - sparse_categorical_accuracy: 1.0000\n",
      "Epoch 144/150\n",
      "19/19 [==============================] - 0s 3ms/step - loss: 1.3545e-05 - sparse_categorical_accuracy: 1.0000\n",
      "Epoch 145/150\n",
      "19/19 [==============================] - 0s 3ms/step - loss: 1.3442e-05 - sparse_categorical_accuracy: 1.0000\n",
      "Epoch 146/150\n",
      "19/19 [==============================] - 0s 3ms/step - loss: 1.3328e-05 - sparse_categorical_accuracy: 1.0000\n",
      "Epoch 147/150\n",
      "19/19 [==============================] - 0s 3ms/step - loss: 1.3217e-05 - sparse_categorical_accuracy: 1.0000\n",
      "Epoch 148/150\n",
      "19/19 [==============================] - 0s 3ms/step - loss: 1.3106e-05 - sparse_categorical_accuracy: 1.0000\n",
      "Epoch 149/150\n",
      "19/19 [==============================] - 0s 3ms/step - loss: 1.2997e-05 - sparse_categorical_accuracy: 1.0000\n",
      "Epoch 150/150\n",
      "19/19 [==============================] - 0s 3ms/step - loss: 1.2902e-05 - sparse_categorical_accuracy: 1.0000\n"
     ]
    },
    {
     "data": {
      "text/plain": [
       "<keras.callbacks.History at 0x28e4a27d0>"
      ]
     },
     "execution_count": 22,
     "metadata": {},
     "output_type": "execute_result"
    }
   ],
   "source": [
    "#Adding input layer, 2 dense layers and output later\n",
    "inputs=keras.Input(shape=(498), name=\"feature\")\n",
    "x=keras.layers.Dense(300,activation=\"relu\",name=\"dense_1\")(inputs)\n",
    "x=keras.layers.Dense(200,activation=\"relu\",name=\"dense_2\")(x)\n",
    "outputs=keras.layers.Dense(10,activation=\"softmax\",name=\"predictions\")(x)\n",
    "\n",
    "#Defining model\n",
    "model=keras.Model(inputs=inputs,outputs=outputs)\n",
    "\n",
    "#Compiling model\n",
    "model.compile(optimizer=keras.optimizers.RMSprop(),loss=keras.losses.SparseCategoricalCrossentropy(),metrics=[keras.metrics.SparseCategoricalAccuracy()])\n",
    "\n",
    "#Fitting the model\n",
    "model.fit(features_train.tolist(),labels_train.tolist(),verbose=1,epochs=150)"
   ]
  },
  {
   "cell_type": "markdown",
   "id": "e45f0c1d",
   "metadata": {},
   "source": [
    "## Model evaluation "
   ]
  },
  {
   "cell_type": "code",
   "execution_count": 23,
   "id": "25ae117a",
   "metadata": {},
   "outputs": [
    {
     "name": "stdout",
     "output_type": "stream",
     "text": [
      "7/7 [==============================] - 0s 980us/step - loss: 2.1918 - sparse_categorical_accuracy: 0.6850\n",
      "Accuracy:68.50000023841858%\n"
     ]
    }
   ],
   "source": [
    "score=model.evaluate(x=features_test.tolist(),y=labels_test.tolist())\n",
    "print('Accuracy:'+str(score[1]*100)+'%')"
   ]
  },
  {
   "cell_type": "markdown",
   "id": "ad4cea24",
   "metadata": {},
   "source": [
    "## Random value prediction "
   ]
  },
  {
   "cell_type": "code",
   "execution_count": 91,
   "id": "8c718e00",
   "metadata": {},
   "outputs": [],
   "source": [
    "def prediction(file_path):\n",
    "    feature=get_features(file_path)\n",
    "    feature=feature.reshape(1,498)\n",
    "    feature=sc.fit_transform(feature)\n",
    "    y=model.predict(feature)\n",
    "    ind=numpy.argmax(y)\n",
    "    print(genres[ind])"
   ]
  },
  {
   "cell_type": "code",
   "execution_count": 94,
   "id": "888b8e05",
   "metadata": {},
   "outputs": [
    {
     "name": "stdout",
     "output_type": "stream",
     "text": [
      "1/1 [==============================] - 0s 10ms/step\n",
      "rock\n"
     ]
    }
   ],
   "source": [
    "prediction(\"/Users/casarulez/Downloads/in.mp3\")"
   ]
  },
  {
   "cell_type": "markdown",
   "id": "08264710",
   "metadata": {},
   "source": [
    "## Saving the model "
   ]
  },
  {
   "cell_type": "code",
   "execution_count": 24,
   "id": "58017a48",
   "metadata": {},
   "outputs": [],
   "source": [
    "model.save(\"genre.h5\")"
   ]
  },
  {
   "cell_type": "code",
   "execution_count": null,
   "id": "1a2a4e7b",
   "metadata": {},
   "outputs": [],
   "source": []
  }
 ],
 "metadata": {
  "kernelspec": {
   "display_name": "myenv",
   "language": "python",
   "name": "myenv"
  },
  "language_info": {
   "codemirror_mode": {
    "name": "ipython",
    "version": 3
   },
   "file_extension": ".py",
   "mimetype": "text/x-python",
   "name": "python",
   "nbconvert_exporter": "python",
   "pygments_lexer": "ipython3",
   "version": "3.10.1"
  }
 },
 "nbformat": 4,
 "nbformat_minor": 5
}
